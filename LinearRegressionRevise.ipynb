{
 "cells": [
  {
   "cell_type": "code",
   "execution_count": 6,
   "id": "f7db5503",
   "metadata": {},
   "outputs": [],
   "source": [
    "import numpy as np"
   ]
  },
  {
   "cell_type": "code",
   "execution_count": 17,
   "id": "580fdbb2",
   "metadata": {},
   "outputs": [],
   "source": [
    "class LinearRegression:\n",
    "    def __init__(self,n_iters=1000,lr=0.01):\n",
    "        self.n_iters = n_iters\n",
    "        self.lr = lr\n",
    "        \n",
    "        self.w = None\n",
    "        self.b = None\n",
    "        \n",
    "    def loss(self,y,preds):\n",
    "        return np.sum(np.square(y-preds))/y.shape[0]\n",
    "        \n",
    "    def fit(self,X,y):\n",
    "        n_samples,n_features = X.shape\n",
    "        \n",
    "        self.w = np.zeros(n_features)\n",
    "        self.b = 0\n",
    "        \n",
    "        for _ in range(self.n_iters):\n",
    "            \n",
    "            preds = self.predict(X)\n",
    "            \n",
    "            #update weights n bias\n",
    "#             dw = ((2/y.shape[0])* np.dot(X.T,preds-y)) + (2 * self.lr * self.w) #Ridge regression\n",
    "            dw = ((2/y.shape[0])* np.dot(X.T,preds-y)) + (self.lr) # Lasso regression\n",
    "            \n",
    "         \n",
    "            db = (2/y.shape[0])* np.sum(y-preds)\n",
    "            \n",
    "            self.w -= self.lr * dw\n",
    "            self.b -= self.lr * db\n",
    "            \n",
    "    def predict(self,X):\n",
    "        return np.dot(X,self.w) + self.b\n",
    "    \n",
    "        "
   ]
  },
  {
   "cell_type": "code",
   "execution_count": 18,
   "id": "ba01412b",
   "metadata": {},
   "outputs": [],
   "source": [
    "import sklearn\n",
    "from sklearn import datasets\n",
    "X, y = datasets.make_regression(n_samples=100,n_features=1,noise=20)"
   ]
  },
  {
   "cell_type": "code",
   "execution_count": 19,
   "id": "23ef8223",
   "metadata": {},
   "outputs": [],
   "source": [
    "from sklearn.model_selection import train_test_split\n",
    "X_train,X_test,y_train,y_test = train_test_split(X,y,test_size=0.25)"
   ]
  },
  {
   "cell_type": "code",
   "execution_count": 20,
   "id": "a730e0fb",
   "metadata": {},
   "outputs": [
    {
     "data": {
      "text/plain": [
       "<matplotlib.collections.PathCollection at 0x218ba7a7ee0>"
      ]
     },
     "execution_count": 20,
     "metadata": {},
     "output_type": "execute_result"
    },
    {
     "data": {
      "image/png": "[encoded data removed]",
      "text/plain": [
       "<Figure size 432x288 with 1 Axes>"
      ]
     },
     "metadata": {
      "needs_background": "light"
     },
     "output_type": "display_data"
    }
   ],
   "source": [
    "import matplotlib.pyplot as plt\n",
    "plt.scatter(X[:,0],y,color='b')"
   ]
  },
  {
   "cell_type": "code",
   "execution_count": 21,
   "id": "8a504a2c",
   "metadata": {},
   "outputs": [],
   "source": [
    "model = LinearRegression(500,0.001)\n",
    "model.fit(X_train,y_train)"
   ]
  },
  {
   "cell_type": "code",
   "execution_count": 22,
   "id": "4bb339dc",
   "metadata": {},
   "outputs": [],
   "source": [
    "predictions = model.predict(X_test)"
   ]
  },
  {
   "cell_type": "code",
   "execution_count": 23,
   "id": "4d7aa9ee",
   "metadata": {},
   "outputs": [],
   "source": [
    "laass = model.loss(y_test,predictions)"
   ]
  },
  {
   "cell_type": "code",
   "execution_count": 24,
   "id": "928e5c2b",
   "metadata": {},
   "outputs": [
    {
     "data": {
      "text/plain": [
       "924.5250347508634"
      ]
     },
     "execution_count": 24,
     "metadata": {},
     "output_type": "execute_result"
    }
   ],
   "source": [
    "laass"
   ]
  },
  {
   "cell_type": "code",
   "execution_count": 25,
   "id": "ccbab3c1",
   "metadata": {},
   "outputs": [
    {
     "data": {
      "image/png": "[encoded data removed]",
      "text/plain": [
       "<Figure size 576x432 with 1 Axes>"
      ]
     },
     "metadata": {
      "needs_background": "light"
     },
     "output_type": "display_data"
    }
   ],
   "source": [
    "cmap = plt.get_cmap('viridis')\n",
    "fig = plt.figure(figsize=(8,6))\n",
    "m1 = plt.scatter(X_train,y_train,color=cmap(0.9),s=10)\n",
    "m2 = plt.scatter(X_test,y_test,color=cmap(0.5),s=10)\n",
    "plt.plot(X_test,predictions,color='black')\n",
    "plt.show()"
   ]
  },
  {
   "cell_type": "code",
   "execution_count": null,
   "id": "260f0234",
   "metadata": {},
   "outputs": [],
   "source": []
  }
 ],
 "metadata": {
  "kernelspec": {
   "display_name": "Python 3 (ipykernel)",
   "language": "python",
   "name": "python3"
  },
  "language_info": {
   "codemirror_mode": {
    "name": "ipython",
    "version": 3
   },
   "file_extension": ".py",
   "mimetype": "text/x-python",
   "name": "python",
   "nbconvert_exporter": "python",
   "pygments_lexer": "ipython3",
   "version": "3.10.6"
  }
 },
 "nbformat": 4,
 "nbformat_minor": 5
}
