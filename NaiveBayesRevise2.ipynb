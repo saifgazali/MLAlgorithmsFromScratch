{
 "cells": [
  {
   "cell_type": "code",
   "execution_count": 1,
   "id": "68227b79",
   "metadata": {},
   "outputs": [],
   "source": [
    "import numpy as np"
   ]
  },
  {
   "cell_type": "code",
   "execution_count": 2,
   "id": "6682377a",
   "metadata": {},
   "outputs": [],
   "source": [
    "class NaiveBayes:\n",
    "    def fit(self,X,y):\n",
    "        n_samples,n_features = X.shape\n",
    "        self._classes = np.unique(y)\n",
    "        self.n_classes = len(self._classes)\n",
    "        \n",
    "        \n",
    "        self._mean = np.zeros((self.n_classes,n_features),dtype = np.float64)\n",
    "        self._var = np.zeros((self.n_classes,n_features),dtype = np.float64)\n",
    "        self._priors = np.zeros(self.n_classes,dtype=np.float64)\n",
    "        \n",
    "        for idx,c in enumerate(self._classes):\n",
    "            X_c = X[y==c]\n",
    "            \n",
    "            self._mean[idx] = X_c.mean(axis=0)\n",
    "            self._var[idx] = X_c.var(axis=0)\n",
    "            self._priors[idx] = len(X_c)/n_samples\n",
    "            \n",
    "    \n",
    "    def predict(self,X):\n",
    "        preds = [self._predict(x) for x in X]\n",
    "        return preds\n",
    "    \n",
    "    def _predict(self,x):\n",
    "        posteriors = []\n",
    "        \n",
    "        for idx,c in enumerate(self._classes):\n",
    "            prior = self._priors[idx]\n",
    "            \n",
    "            posterior = np.sum(np.log(self._pdf(idx,x)))\n",
    "            \n",
    "            posterior += prior\n",
    "            \n",
    "            posteriors.append(posterior)\n",
    "            \n",
    "        return self._classes[np.argmax(posteriors)]\n",
    "    \n",
    "    def _pdf(self,idx,x):\n",
    "        mean = self._mean[idx]\n",
    "        var = self._var[idx]\n",
    "        \n",
    "        num = np.exp(-((x-mean)**2)/(2*var))\n",
    "        den = np.sqrt(2*np.pi*var)\n",
    "        \n",
    "        return num/den"
   ]
  },
  {
   "cell_type": "code",
   "execution_count": 3,
   "id": "c6ffc6a7",
   "metadata": {},
   "outputs": [],
   "source": [
    "import sklearn\n",
    "from sklearn import datasets\n",
    "\n",
    "bc = datasets.load_breast_cancer()\n",
    "\n",
    "X,y = bc.data,bc.target\n",
    "\n",
    "from sklearn.model_selection import train_test_split\n",
    "X_train,X_test,y_train,y_test = train_test_split(X,y)"
   ]
  },
  {
   "cell_type": "code",
   "execution_count": 4,
   "id": "f1cfb9ee",
   "metadata": {},
   "outputs": [],
   "source": [
    "clf = NaiveBayes()\n",
    "clf.fit(X_train,y_train)\n",
    "preds = clf.predict(X_test)"
   ]
  },
  {
   "cell_type": "code",
   "execution_count": 5,
   "id": "c1be231e",
   "metadata": {},
   "outputs": [
    {
     "data": {
      "text/plain": [
       "0.9230769230769231"
      ]
     },
     "execution_count": 5,
     "metadata": {},
     "output_type": "execute_result"
    }
   ],
   "source": [
    "acc = np.sum(preds == y_test) /len(y_test) \n",
    "acc"
   ]
  }
 ],
 "metadata": {
  "kernelspec": {
   "display_name": "Python 3 (ipykernel)",
   "language": "python",
   "name": "python3"
  },
  "language_info": {
   "codemirror_mode": {
    "name": "ipython",
    "version": 3
   },
   "file_extension": ".py",
   "mimetype": "text/x-python",
   "name": "python",
   "nbconvert_exporter": "python",
   "pygments_lexer": "ipython3",
   "version": "3.10.6"
  }
 },
 "nbformat": 4,
 "nbformat_minor": 5
}
