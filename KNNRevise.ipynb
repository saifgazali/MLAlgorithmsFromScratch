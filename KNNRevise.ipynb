{
 "cells": [
  {
   "cell_type": "code",
   "execution_count": 1,
   "id": "e37a4767",
   "metadata": {},
   "outputs": [],
   "source": [
    "import numpy as np\n",
    "from collections import Counter"
   ]
  },
  {
   "cell_type": "code",
   "execution_count": 2,
   "id": "34738a47",
   "metadata": {},
   "outputs": [],
   "source": [
    "class KNN:\n",
    "    def __init__(self,k):\n",
    "        self.k = k\n",
    "    \n",
    "    def fit(self,X,y):\n",
    "        self.X_train = X\n",
    "        self.y_train = y\n",
    "    \n",
    "    def euclidean(self,x1,x2):\n",
    "        return np.sqrt(np.sum((x1-x2)**2))\n",
    "    \n",
    "    def predict(self,X):\n",
    "        predictions = [self._predict(x) for x in X]\n",
    "        return predictions\n",
    "    \n",
    "    def _predict(self,x):\n",
    "        distances = [self.euclidean(x,x1) for x1 in self.X_train]\n",
    "        k_nearest_indices = np.argsort(distances)[:self.k]\n",
    "        k_nearest_labels = [self.y_train[i] for i in k_nearest_indices]\n",
    "        return Counter(k_nearest_labels).most_common()[0][0]"
   ]
  },
  {
   "cell_type": "code",
   "execution_count": null,
   "id": "45dd4e73",
   "metadata": {},
   "outputs": [],
   "source": []
  },
  {
   "cell_type": "code",
   "execution_count": 3,
   "id": "a8fe66f8",
   "metadata": {},
   "outputs": [],
   "source": [
    "import sklearn\n",
    "from sklearn import datasets\n",
    "\n",
    "bc = datasets.load_breast_cancer()\n",
    "X,y = bc.data,bc.target\n",
    "\n",
    "from sklearn.model_selection import train_test_split\n",
    "X_train,X_test,y_train,y_test = train_test_split(X,y)"
   ]
  },
  {
   "cell_type": "code",
   "execution_count": 7,
   "id": "5127b153",
   "metadata": {},
   "outputs": [
    {
     "data": {
      "text/plain": [
       "20"
      ]
     },
     "execution_count": 7,
     "metadata": {},
     "output_type": "execute_result"
    }
   ],
   "source": [
    "int(np.sqrt(y_train.shape[0]))"
   ]
  },
  {
   "cell_type": "code",
   "execution_count": 11,
   "id": "1048c34c",
   "metadata": {},
   "outputs": [],
   "source": [
    "clf = KNN(5)\n",
    "clf.fit(X_train,y_train)"
   ]
  },
  {
   "cell_type": "code",
   "execution_count": 12,
   "id": "6c82f055",
   "metadata": {},
   "outputs": [],
   "source": [
    "y_pred = clf.predict(X_test)"
   ]
  },
  {
   "cell_type": "code",
   "execution_count": 13,
   "id": "f500ace1",
   "metadata": {},
   "outputs": [
    {
     "data": {
      "text/plain": [
       "0.9370629370629371"
      ]
     },
     "execution_count": 13,
     "metadata": {},
     "output_type": "execute_result"
    }
   ],
   "source": [
    "np.sum(y_pred==y_test)/len(y_test)"
   ]
  },
  {
   "cell_type": "code",
   "execution_count": 9,
   "id": "69be5a4c",
   "metadata": {},
   "outputs": [],
   "source": [
    "clf = KNN(int(np.sqrt(y_train.shape[0])))\n",
    "clf.fit(X_train,y_train)"
   ]
  },
  {
   "cell_type": "code",
   "execution_count": 10,
   "id": "2f31be71",
   "metadata": {},
   "outputs": [],
   "source": [
    "y_pred = clf.predict(X_test)"
   ]
  },
  {
   "cell_type": "code",
   "execution_count": 11,
   "id": "fe79aab4",
   "metadata": {},
   "outputs": [
    {
     "data": {
      "text/plain": [
       "0.9230769230769231"
      ]
     },
     "execution_count": 11,
     "metadata": {},
     "output_type": "execute_result"
    }
   ],
   "source": [
    "np.sum(y_pred==y_test)/len(y_test)"
   ]
  },
  {
   "cell_type": "code",
   "execution_count": 13,
   "id": "4912ba2f",
   "metadata": {},
   "outputs": [
    {
     "name": "stdout",
     "output_type": "stream",
     "text": [
      "0.9090909090909091\n",
      "0.9090909090909091\n",
      "0.916083916083916\n",
      "0.916083916083916\n",
      "0.9370629370629371\n",
      "0.9230769230769231\n",
      "0.9370629370629371\n",
      "0.9230769230769231\n",
      "0.9300699300699301\n",
      "0.9300699300699301\n",
      "0.9370629370629371\n",
      "0.9230769230769231\n",
      "0.9300699300699301\n",
      "0.916083916083916\n",
      "0.916083916083916\n",
      "0.916083916083916\n",
      "0.9300699300699301\n",
      "0.9230769230769231\n",
      "0.9230769230769231\n",
      "0.9230769230769231\n",
      "0.9300699300699301\n",
      "0.9230769230769231\n",
      "0.9300699300699301\n",
      "0.9300699300699301\n",
      "0.9230769230769231\n",
      "0.916083916083916\n",
      "0.9230769230769231\n",
      "0.916083916083916\n",
      "0.9230769230769231\n",
      "0.916083916083916\n",
      "0.9020979020979021\n",
      "0.916083916083916\n",
      "0.9090909090909091\n",
      "0.9090909090909091\n",
      "0.9090909090909091\n",
      "0.9090909090909091\n",
      "0.9090909090909091\n",
      "0.9090909090909091\n",
      "0.9090909090909091\n",
      "0.9090909090909091\n",
      "0.9020979020979021\n",
      "0.9090909090909091\n",
      "0.9020979020979021\n",
      "0.9090909090909091\n",
      "0.9090909090909091\n",
      "0.9090909090909091\n",
      "0.8951048951048951\n",
      "0.9020979020979021\n",
      "0.9020979020979021\n",
      "0.9020979020979021\n",
      "0.9020979020979021\n",
      "0.9020979020979021\n",
      "0.9020979020979021\n",
      "0.9020979020979021\n",
      "0.9020979020979021\n",
      "0.9020979020979021\n",
      "0.9020979020979021\n",
      "0.9020979020979021\n",
      "0.9020979020979021\n",
      "0.9020979020979021\n",
      "0.9020979020979021\n",
      "0.9020979020979021\n",
      "0.8951048951048951\n",
      "0.8951048951048951\n",
      "0.8951048951048951\n",
      "0.9020979020979021\n",
      "0.9020979020979021\n",
      "0.9020979020979021\n",
      "0.8951048951048951\n",
      "0.8951048951048951\n",
      "0.9020979020979021\n",
      "0.9020979020979021\n",
      "0.9020979020979021\n",
      "0.9020979020979021\n",
      "0.9020979020979021\n",
      "0.9020979020979021\n",
      "0.9020979020979021\n",
      "0.9020979020979021\n",
      "0.9020979020979021\n",
      "0.9020979020979021\n",
      "0.9020979020979021\n",
      "0.9020979020979021\n",
      "0.9020979020979021\n",
      "0.9020979020979021\n",
      "0.9020979020979021\n",
      "0.8951048951048951\n",
      "0.9020979020979021\n",
      "0.8951048951048951\n",
      "0.8951048951048951\n",
      "0.8951048951048951\n",
      "0.8951048951048951\n",
      "0.8951048951048951\n",
      "0.8951048951048951\n",
      "0.8951048951048951\n",
      "0.8951048951048951\n",
      "0.8951048951048951\n",
      "0.8881118881118881\n",
      "0.8881118881118881\n",
      "0.8881118881118881\n"
     ]
    }
   ],
   "source": [
    "for i in range(1,100):\n",
    "    clf = KNN(i)\n",
    "    clf.fit(X_train,y_train)\n",
    "    y_pred = clf.predict(X_test)\n",
    "    print(np.sum(y_pred==y_test)/len(y_test))"
   ]
  },
  {
   "cell_type": "code",
   "execution_count": null,
   "id": "2e232705",
   "metadata": {},
   "outputs": [],
   "source": []
  }
 ],
 "metadata": {
  "kernelspec": {
   "display_name": "Python 3 (ipykernel)",
   "language": "python",
   "name": "python3"
  },
  "language_info": {
   "codemirror_mode": {
    "name": "ipython",
    "version": 3
   },
   "file_extension": ".py",
   "mimetype": "text/x-python",
   "name": "python",
   "nbconvert_exporter": "python",
   "pygments_lexer": "ipython3",
   "version": "3.10.6"
  }
 },
 "nbformat": 4,
 "nbformat_minor": 5
}
