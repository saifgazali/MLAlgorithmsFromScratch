{
 "cells": [
  {
   "cell_type": "code",
   "execution_count": 1,
   "id": "62440aaa",
   "metadata": {},
   "outputs": [],
   "source": [
    "import numpy as np"
   ]
  },
  {
   "cell_type": "code",
   "execution_count": 22,
   "id": "a53da680",
   "metadata": {},
   "outputs": [],
   "source": [
    "class LogisticRegression:\n",
    "    def __init__(self,num_iters=1000,lr=0.01):\n",
    "        self.num_iters = num_iters\n",
    "        self.lr = lr\n",
    "    \n",
    "    def fit(self,X,y):\n",
    "        n_features = X.shape[1]\n",
    "        \n",
    "        self.w = np.zeros(n_features)\n",
    "        self.b = 0\n",
    "        \n",
    "        for _ in range(self.num_iters):\n",
    "            \n",
    "            preds = self.pred(X)\n",
    "            \n",
    "            dw = (2/y.shape[0])*(np.dot(X.T,(preds-y)))\n",
    "            db = (2/y.shape[0])*(np.sum(preds-y))\n",
    "            \n",
    "            self.w -= (self.lr * dw)\n",
    "            self.b -= (self.lr * db)\n",
    "            \n",
    "    def pred(self,X):\n",
    "        z = np.dot(X,self.w) + self.b\n",
    "        return (1/(1+np.exp(-z)))\n",
    "        \n",
    "    def predict(self,X):\n",
    "        preds = np.dot(self.w,X.T) + self.b\n",
    "        preds = 1/(1+np.exp(-preds))\n",
    "        \n",
    "        return [1 if pred > 0.5 else 0 for pred in preds]"
   ]
  },
  {
   "cell_type": "code",
   "execution_count": 23,
   "id": "0c9d7ed8",
   "metadata": {},
   "outputs": [],
   "source": [
    "import sklearn\n",
    "from sklearn import datasets\n",
    "\n",
    "bc = datasets.load_breast_cancer()\n",
    "X,y = bc.data,bc.target\n",
    "\n",
    "from sklearn.model_selection import train_test_split\n",
    "X_train,X_test,y_train,y_test = train_test_split(X,y)"
   ]
  },
  {
   "cell_type": "code",
   "execution_count": 24,
   "id": "da8019df",
   "metadata": {},
   "outputs": [
    {
     "name": "stderr",
     "output_type": "stream",
     "text": [
      "C:\\Users\\saif\\AppData\\Local\\Temp\\ipykernel_32660\\2699393916.py:24: RuntimeWarning: overflow encountered in exp\n",
      "  return (1/(1+np.exp(-z)))\n"
     ]
    }
   ],
   "source": [
    "clf = LogisticRegression()\n",
    "clf.fit(X_train,y_train)"
   ]
  },
  {
   "cell_type": "code",
   "execution_count": 25,
   "id": "7cbecf08",
   "metadata": {},
   "outputs": [
    {
     "name": "stdout",
     "output_type": "stream",
     "text": [
      "0.7097225291870065\n"
     ]
    },
    {
     "name": "stderr",
     "output_type": "stream",
     "text": [
      "C:\\Users\\saif\\AppData\\Local\\Temp\\ipykernel_32660\\2699393916.py:29: RuntimeWarning: overflow encountered in exp\n",
      "  preds = 1/(1+np.exp(-preds))\n"
     ]
    }
   ],
   "source": [
    "y_pred = clf.predict(X_test)"
   ]
  },
  {
   "cell_type": "code",
   "execution_count": 26,
   "id": "2067969e",
   "metadata": {},
   "outputs": [
    {
     "data": {
      "text/plain": [
       "0.916083916083916"
      ]
     },
     "execution_count": 26,
     "metadata": {},
     "output_type": "execute_result"
    }
   ],
   "source": [
    "np.sum(y_pred==y_test)/len(y_test)"
   ]
  },
  {
   "cell_type": "code",
   "execution_count": null,
   "id": "faf891f9",
   "metadata": {},
   "outputs": [],
   "source": []
  }
 ],
 "metadata": {
  "kernelspec": {
   "display_name": "Python 3 (ipykernel)",
   "language": "python",
   "name": "python3"
  },
  "language_info": {
   "codemirror_mode": {
    "name": "ipython",
    "version": 3
   },
   "file_extension": ".py",
   "mimetype": "text/x-python",
   "name": "python",
   "nbconvert_exporter": "python",
   "pygments_lexer": "ipython3",
   "version": "3.10.6"
  }
 },
 "nbformat": 4,
 "nbformat_minor": 5
}
