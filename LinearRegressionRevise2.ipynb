{
 "cells": [
  {
   "cell_type": "code",
   "execution_count": 22,
   "id": "7ae8aa28",
   "metadata": {},
   "outputs": [],
   "source": [
    "import numpy as np\n",
    "import matplotlib.pyplot as plt"
   ]
  },
  {
   "cell_type": "code",
   "execution_count": 15,
   "id": "d8fc1308",
   "metadata": {},
   "outputs": [],
   "source": [
    "class LinearRegression:\n",
    "    def __init__(self,num_iters,lr):\n",
    "        self.num_iters = num_iters \n",
    "        self.lr = lr\n",
    "    \n",
    "    def fit(self,X,y):\n",
    "        \n",
    "        n_features = X.shape[1]\n",
    "        self.w = np.zeros(n_features)\n",
    "        self.b = 0\n",
    "        \n",
    "        for _ in range(self.num_iters):\n",
    "            \n",
    "            preds = np.dot(self.w,X.T) + self.b\n",
    "            \n",
    "            dw = (2/y.shape[0])*np.dot(X.T,(preds - y))\n",
    "            db = (2/y.shape[0])*np.sum(preds-y)\n",
    "            \n",
    "            self.w -= dw * self.lr\n",
    "            self.b -= db * self.lr\n",
    "            \n",
    "    def predict(self,X):\n",
    "        return np.dot(X,self.w) + self.b"
   ]
  },
  {
   "cell_type": "code",
   "execution_count": 16,
   "id": "f3064235",
   "metadata": {},
   "outputs": [],
   "source": [
    "import sklearn\n",
    "from sklearn import datasets\n",
    "X, y = datasets.make_regression(n_samples=100,n_features=1,noise=20)"
   ]
  },
  {
   "cell_type": "code",
   "execution_count": 17,
   "id": "665ecd74",
   "metadata": {},
   "outputs": [],
   "source": [
    "from sklearn.model_selection import train_test_split\n",
    "X_train,X_test,y_train,y_test = train_test_split(X,y,test_size=0.25)"
   ]
  },
  {
   "cell_type": "code",
   "execution_count": 18,
   "id": "0e3546c8",
   "metadata": {},
   "outputs": [],
   "source": [
    "model = LinearRegression(500,0.001)\n",
    "model.fit(X_train,y_train)"
   ]
  },
  {
   "cell_type": "code",
   "execution_count": 19,
   "id": "60426f7e",
   "metadata": {},
   "outputs": [],
   "source": [
    "predictions = model.predict(X_test)"
   ]
  },
  {
   "cell_type": "code",
   "execution_count": 23,
   "id": "85e7b4e8",
   "metadata": {},
   "outputs": [
    {
     "data": {
      "image/png": "[encoded data removed]",
      "text/plain": [
       "<Figure size 576x432 with 1 Axes>"
      ]
     },
     "metadata": {
      "needs_background": "light"
     },
     "output_type": "display_data"
    }
   ],
   "source": [
    "cmap = plt.get_cmap('viridis')\n",
    "fig = plt.figure(figsize=(8,6))\n",
    "m1 = plt.scatter(X_train,y_train,color=cmap(0.9),s=10)\n",
    "m2 = plt.scatter(X_test,y_test,color=cmap(0.5),s=10)\n",
    "plt.plot(X_test,predictions,color='black')\n",
    "plt.show()"
   ]
  },
  {
   "cell_type": "code",
   "execution_count": null,
   "id": "5be408d0",
   "metadata": {},
   "outputs": [],
   "source": []
  }
 ],
 "metadata": {
  "kernelspec": {
   "display_name": "Python 3 (ipykernel)",
   "language": "python",
   "name": "python3"
  },
  "language_info": {
   "codemirror_mode": {
    "name": "ipython",
    "version": 3
   },
   "file_extension": ".py",
   "mimetype": "text/x-python",
   "name": "python",
   "nbconvert_exporter": "python",
   "pygments_lexer": "ipython3",
   "version": "3.10.6"
  }
 },
 "nbformat": 4,
 "nbformat_minor": 5
}
