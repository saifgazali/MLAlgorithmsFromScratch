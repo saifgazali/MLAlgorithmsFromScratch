{
 "cells": [
  {
   "cell_type": "code",
   "execution_count": 1,
   "id": "1fc45b82",
   "metadata": {},
   "outputs": [],
   "source": [
    "import numpy as np"
   ]
  },
  {
   "cell_type": "code",
   "execution_count": 19,
   "id": "fb95ec4f",
   "metadata": {},
   "outputs": [],
   "source": [
    "class LogisticRegression:\n",
    "    def __init__(self,n_iters=1000,lr=0.01):\n",
    "        self.n_iters = n_iters\n",
    "        self.lr = lr\n",
    "        \n",
    "        self.w = None\n",
    "        self.b = None\n",
    "        \n",
    "    def fit(self,X,y):\n",
    "        n_samples, n_features = X.shape\n",
    "        \n",
    "        self.w = np.zeros(n_features)\n",
    "        self.b = 0\n",
    "        \n",
    "        for _ in range(self.n_iters):\n",
    "            \n",
    "            preds = self.predict(X)\n",
    "            \n",
    "            dw = (2/y.shape[0]) * np.dot(X.T,preds-y)\n",
    "            db = (2/y.shape[0]) * np.sum(preds - y)\n",
    "            \n",
    "            self.w -= dw * self.lr\n",
    "            self.b -= db * self.lr\n",
    "            \n",
    "    \n",
    "    def predict(self,X):\n",
    "        z = np.dot(X,self.w) + self.b\n",
    "        \n",
    "        return (1/(1+np.exp(-z)))\n",
    "\n",
    "    def predict_test(self,X):\n",
    "        z = np.dot(self.w,X.T) + self.b\n",
    "        z = 1/(1+np.exp(-z))\n",
    "        \n",
    "        preds = [1 if pred>=0.5 else 0 for pred in z]\n",
    "        \n",
    "        return preds\n",
    "            \n",
    "        \n",
    "            \n",
    "        \n",
    "        \n",
    "        "
   ]
  },
  {
   "cell_type": "code",
   "execution_count": 7,
   "id": "fe18634b",
   "metadata": {},
   "outputs": [],
   "source": [
    "import sklearn\n",
    "from sklearn import datasets\n",
    "\n",
    "bc = datasets.load_breast_cancer()\n",
    "X,y = bc.data,bc.target\n",
    "\n",
    "from sklearn.model_selection import train_test_split\n",
    "X_train,X_test,y_train,y_test = train_test_split(X,y)"
   ]
  },
  {
   "cell_type": "code",
   "execution_count": 20,
   "id": "2db8c38a",
   "metadata": {},
   "outputs": [
    {
     "name": "stderr",
     "output_type": "stream",
     "text": [
      "C:\\Users\\saif\\AppData\\Local\\Temp\\ipykernel_39484\\1848875520.py:29: RuntimeWarning: overflow encountered in exp\n",
      "  return (1/(1+np.exp(-z)))\n"
     ]
    }
   ],
   "source": [
    "clf = LogisticRegression()\n",
    "clf.fit(X_train,y_train)"
   ]
  },
  {
   "cell_type": "code",
   "execution_count": 21,
   "id": "940ec804",
   "metadata": {},
   "outputs": [
    {
     "name": "stderr",
     "output_type": "stream",
     "text": [
      "C:\\Users\\saif\\AppData\\Local\\Temp\\ipykernel_39484\\1848875520.py:29: RuntimeWarning: overflow encountered in exp\n",
      "  return (1/(1+np.exp(-z)))\n"
     ]
    }
   ],
   "source": [
    "y_pred = clf.predict(X_test)"
   ]
  },
  {
   "cell_type": "code",
   "execution_count": 22,
   "id": "08593698",
   "metadata": {},
   "outputs": [
    {
     "data": {
      "text/plain": [
       "0.8811188811188811"
      ]
     },
     "execution_count": 22,
     "metadata": {},
     "output_type": "execute_result"
    }
   ],
   "source": [
    "np.sum(y_pred==y_test)/len(y_test)"
   ]
  }
 ],
 "metadata": {
  "kernelspec": {
   "display_name": "Python 3 (ipykernel)",
   "language": "python",
   "name": "python3"
  },
  "language_info": {
   "codemirror_mode": {
    "name": "ipython",
    "version": 3
   },
   "file_extension": ".py",
   "mimetype": "text/x-python",
   "name": "python",
   "nbconvert_exporter": "python",
   "pygments_lexer": "ipython3",
   "version": "3.10.6"
  }
 },
 "nbformat": 4,
 "nbformat_minor": 5
}
