{
 "cells": [
  {
   "cell_type": "code",
   "execution_count": 1,
   "id": "f4010e5a",
   "metadata": {},
   "outputs": [],
   "source": [
    "import numpy as np"
   ]
  },
  {
   "cell_type": "code",
   "execution_count": 50,
   "id": "0a37a365",
   "metadata": {},
   "outputs": [],
   "source": [
    "class Layer:\n",
    "    def __init__(self):\n",
    "        self.inputs = None\n",
    "        self.outputs = None\n",
    "    \n",
    "    def forward(self,inp):\n",
    "        pass\n",
    "    \n",
    "    def backward(self,output_gradient,lr):\n",
    "        pass\n",
    "        \n",
    "    "
   ]
  },
  {
   "cell_type": "code",
   "execution_count": 93,
   "id": "c89ca38b",
   "metadata": {},
   "outputs": [],
   "source": [
    "class Dense(Layer):\n",
    "    def __init__(self,input_size,output_size):\n",
    "        self.w = np.random.randn(output_size, input_size)\n",
    "        self.b = np.random.randn(output_size, 1)\n",
    "    \n",
    "    def forward(self,inp):\n",
    "        self.inp = inp\n",
    "        return np.dot(self.w,self.inp) + self.b\n",
    "    \n",
    "    def backward(self,output_gradient,lr):\n",
    "        weight_gradient = output_gradient * self.inp.T\n",
    "        input_gradient = np.dot(output_gradient,self.w.T)\n",
    "        print(self.b)\n",
    "        self.w -= weight_gradient * lr\n",
    "        self.b -= output_gradient\n",
    "        \n",
    "        return input_gradient\n",
    "        "
   ]
  },
  {
   "cell_type": "code",
   "execution_count": 52,
   "id": "3d2c39ec",
   "metadata": {},
   "outputs": [],
   "source": [
    "class ActivationLayer(Layer):\n",
    "    def __init__(self,activation,activation_prime):\n",
    "        self.activation = activation\n",
    "        self.activation_prime = activation_prime\n",
    "        \n",
    "    def forward(self,inp):\n",
    "        self.inp = inp\n",
    "        return self.activation(self.inp)\n",
    "    \n",
    "    def backward(self,output_gradient,lr):\n",
    "        return np.multiply(output_gradient, self.activation_prime(self.inp))"
   ]
  },
  {
   "cell_type": "code",
   "execution_count": 53,
   "id": "91dc3eba",
   "metadata": {},
   "outputs": [],
   "source": [
    "class Tanh(ActivationLayer):\n",
    "    def __init__(self):\n",
    "        self.activation = lambda x : np.tanh(x)\n",
    "        self.activation_prime = lambda x : 1 - (np.tanh(x)**2)\n",
    "        super().__init__(self.activation,self.activation_prime)"
   ]
  },
  {
   "cell_type": "code",
   "execution_count": 54,
   "id": "8a9e2183",
   "metadata": {},
   "outputs": [],
   "source": [
    "def mse(y,y_pred):\n",
    "    return np.mean(np.power(y - y_pred,2))\n",
    "    \n",
    "def mse_prime(y,y_pred):\n",
    "    return (2/len(y)) * (y - y_pred)"
   ]
  },
  {
   "cell_type": "code",
   "execution_count": 55,
   "id": "4c5e64c4",
   "metadata": {},
   "outputs": [],
   "source": [
    "def predict(network,inp):\n",
    "    output = inp\n",
    "    \n",
    "    for layer in network:\n",
    "        output = layer.forward(inp)\n",
    "        \n",
    "    return output\n",
    "    "
   ]
  },
  {
   "cell_type": "code",
   "execution_count": 56,
   "id": "d9e76c35",
   "metadata": {},
   "outputs": [],
   "source": [
    "def train(network,X_train,y_train,loss,loss_prime,epochs=1000,lr=0.01):\n",
    "    for _ in range(epochs):\n",
    "        error = 0\n",
    "        \n",
    "        for x,y in zip(X_train,y_train):\n",
    "            \n",
    "            output = predict(network,x)\n",
    "            \n",
    "            error += loss(output,y)\n",
    "            grad = loss_prime(output,y)\n",
    "            \n",
    "            for layer in reversed(network):\n",
    "                grad = layer.backward(grad,lr)\n",
    "            \n",
    "        error /= len(X_train)"
   ]
  },
  {
   "cell_type": "code",
   "execution_count": 57,
   "id": "5d44991e",
   "metadata": {},
   "outputs": [],
   "source": [
    "import sklearn\n",
    "from sklearn import datasets\n",
    "\n",
    "bc = datasets.load_breast_cancer()\n",
    "\n",
    "X,y = bc.data,bc.target\n",
    "\n",
    "\n",
    "from sklearn.model_selection import train_test_split\n",
    "X_train,X_test,y_train,y_test = train_test_split(X,y)"
   ]
  },
  {
   "cell_type": "code",
   "execution_count": 95,
   "id": "d1b0cf63",
   "metadata": {},
   "outputs": [],
   "source": [
    "network = [\n",
    "    Dense(X_train.shape[1], 10),\n",
    "    Tanh(),\n",
    "    Dense(10, 1),\n",
    "    Tanh()\n",
    "]"
   ]
  },
  {
   "cell_type": "code",
   "execution_count": 96,
   "id": "6810364e",
   "metadata": {},
   "outputs": [
    {
     "ename": "ValueError",
     "evalue": "shapes (1,10) and (30,) not aligned: 10 (dim 1) != 30 (dim 0)",
     "output_type": "error",
     "traceback": [
      "\u001b[1;31m---------------------------------------------------------------------------\u001b[0m",
      "\u001b[1;31mValueError\u001b[0m                                Traceback (most recent call last)",
      "Input \u001b[1;32mIn [96]\u001b[0m, in \u001b[0;36m<cell line: 1>\u001b[1;34m()\u001b[0m\n\u001b[1;32m----> 1\u001b[0m \u001b[43mtrain\u001b[49m\u001b[43m(\u001b[49m\u001b[43mnetwork\u001b[49m\u001b[43m,\u001b[49m\u001b[43mX_train\u001b[49m\u001b[43m,\u001b[49m\u001b[43m \u001b[49m\u001b[43my_train\u001b[49m\u001b[43m,\u001b[49m\u001b[43m \u001b[49m\u001b[43mmse\u001b[49m\u001b[43m,\u001b[49m\u001b[43m \u001b[49m\u001b[43mmse_prime\u001b[49m\u001b[43m)\u001b[49m\n",
      "Input \u001b[1;32mIn [56]\u001b[0m, in \u001b[0;36mtrain\u001b[1;34m(network, X_train, y_train, loss, loss_prime, epochs, lr)\u001b[0m\n\u001b[0;32m      3\u001b[0m error \u001b[38;5;241m=\u001b[39m \u001b[38;5;241m0\u001b[39m\n\u001b[0;32m      5\u001b[0m \u001b[38;5;28;01mfor\u001b[39;00m x,y \u001b[38;5;129;01min\u001b[39;00m \u001b[38;5;28mzip\u001b[39m(X_train,y_train):\n\u001b[1;32m----> 7\u001b[0m     output \u001b[38;5;241m=\u001b[39m \u001b[43mpredict\u001b[49m\u001b[43m(\u001b[49m\u001b[43mnetwork\u001b[49m\u001b[43m,\u001b[49m\u001b[43mx\u001b[49m\u001b[43m)\u001b[49m\n\u001b[0;32m      9\u001b[0m     error \u001b[38;5;241m+\u001b[39m\u001b[38;5;241m=\u001b[39m loss(output,y)\n\u001b[0;32m     10\u001b[0m     grad \u001b[38;5;241m=\u001b[39m loss_prime(output,y)\n",
      "Input \u001b[1;32mIn [55]\u001b[0m, in \u001b[0;36mpredict\u001b[1;34m(network, inp)\u001b[0m\n\u001b[0;32m      2\u001b[0m output \u001b[38;5;241m=\u001b[39m inp\n\u001b[0;32m      4\u001b[0m \u001b[38;5;28;01mfor\u001b[39;00m layer \u001b[38;5;129;01min\u001b[39;00m network:\n\u001b[1;32m----> 5\u001b[0m     output \u001b[38;5;241m=\u001b[39m \u001b[43mlayer\u001b[49m\u001b[38;5;241;43m.\u001b[39;49m\u001b[43mforward\u001b[49m\u001b[43m(\u001b[49m\u001b[43minp\u001b[49m\u001b[43m)\u001b[49m\n\u001b[0;32m      7\u001b[0m \u001b[38;5;28;01mreturn\u001b[39;00m output\n",
      "Input \u001b[1;32mIn [93]\u001b[0m, in \u001b[0;36mDense.forward\u001b[1;34m(self, inp)\u001b[0m\n\u001b[0;32m      6\u001b[0m \u001b[38;5;28;01mdef\u001b[39;00m \u001b[38;5;21mforward\u001b[39m(\u001b[38;5;28mself\u001b[39m,inp):\n\u001b[0;32m      7\u001b[0m     \u001b[38;5;28mself\u001b[39m\u001b[38;5;241m.\u001b[39minp \u001b[38;5;241m=\u001b[39m inp\n\u001b[1;32m----> 8\u001b[0m     \u001b[38;5;28;01mreturn\u001b[39;00m \u001b[43mnp\u001b[49m\u001b[38;5;241;43m.\u001b[39;49m\u001b[43mdot\u001b[49m\u001b[43m(\u001b[49m\u001b[38;5;28;43mself\u001b[39;49m\u001b[38;5;241;43m.\u001b[39;49m\u001b[43mw\u001b[49m\u001b[43m,\u001b[49m\u001b[38;5;28;43mself\u001b[39;49m\u001b[38;5;241;43m.\u001b[39;49m\u001b[43minp\u001b[49m\u001b[43m)\u001b[49m \u001b[38;5;241m+\u001b[39m \u001b[38;5;28mself\u001b[39m\u001b[38;5;241m.\u001b[39mb\n",
      "File \u001b[1;32m<__array_function__ internals>:180\u001b[0m, in \u001b[0;36mdot\u001b[1;34m(*args, **kwargs)\u001b[0m\n",
      "\u001b[1;31mValueError\u001b[0m: shapes (1,10) and (30,) not aligned: 10 (dim 1) != 30 (dim 0)"
     ]
    }
   ],
   "source": [
    "train(network,X_train, y_train, mse, mse_prime)"
   ]
  },
  {
   "cell_type": "code",
   "execution_count": null,
   "id": "6884a4be",
   "metadata": {},
   "outputs": [],
   "source": []
  }
 ],
 "metadata": {
  "kernelspec": {
   "display_name": "Python 3 (ipykernel)",
   "language": "python",
   "name": "python3"
  },
  "language_info": {
   "codemirror_mode": {
    "name": "ipython",
    "version": 3
   },
   "file_extension": ".py",
   "mimetype": "text/x-python",
   "name": "python",
   "nbconvert_exporter": "python",
   "pygments_lexer": "ipython3",
   "version": "3.10.6"
  }
 },
 "nbformat": 4,
 "nbformat_minor": 5
}
