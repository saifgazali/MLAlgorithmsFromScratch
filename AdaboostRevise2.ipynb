{
 "cells": [
  {
   "cell_type": "code",
   "execution_count": 1,
   "id": "a9910107",
   "metadata": {},
   "outputs": [],
   "source": [
    "import numpy as np"
   ]
  },
  {
   "cell_type": "code",
   "execution_count": 18,
   "id": "c3a67094",
   "metadata": {},
   "outputs": [],
   "source": [
    "class DecisionStump:\n",
    "    def __init__(self,polarity=None,feature=None,threshold=None,alpha=None):\n",
    "        self.polarity = polarity\n",
    "        self.feature = feature\n",
    "        self.threshold = threshold \n",
    "        self.alpha = alpha\n",
    "    \n",
    "    def predict(self, X):\n",
    "        n_samples,n_features = X.shape\n",
    "        preds = np.ones(n_samples)\n",
    "        \n",
    "        X_c = X[:,self.feature]\n",
    "        \n",
    "        if self.polarity == 1:\n",
    "            preds[X_c < self.threshold] = -1\n",
    "        else:\n",
    "            preds[X_c > self.threshold] = -1\n",
    "            \n",
    "        return preds\n",
    "    "
   ]
  },
  {
   "cell_type": "code",
   "execution_count": 32,
   "id": "52fe1482",
   "metadata": {},
   "outputs": [],
   "source": [
    "class Adaboost:\n",
    "    def __init__(self,n_classifiers):\n",
    "        self.n_classifiers = n_classifiers\n",
    "        \n",
    "    def fit(self,X,y):\n",
    "        n_samples,n_features = X.shape\n",
    "        \n",
    "        self.classifiers = []\n",
    "        \n",
    "        w = np.full(n_samples,1/n_samples)\n",
    "        for _ in range(self.n_classifiers):\n",
    "            clf = DecisionStump()\n",
    "            \n",
    "            min_error = 1000000\n",
    "            \n",
    "            for f_idx in range(n_features):\n",
    "                X_c = X[:,f_idx]\n",
    "                \n",
    "                thresholds = np.unique(X_c)\n",
    "                \n",
    "                for thr in thresholds:\n",
    "                    polarity = 1\n",
    "                    \n",
    "                    preds = np.ones(n_samples)\n",
    "                    \n",
    "                    preds[X_c < thr] = -1\n",
    "                    \n",
    "                    misclassified = w[preds != y]\n",
    "                    \n",
    "                    error = sum(misclassified)\n",
    "                    \n",
    "                    if error > 0.5:\n",
    "                        error = 1 - error\n",
    "                        polarity = -1\n",
    "                    \n",
    "                    if min_error > error:\n",
    "                        min_error = error\n",
    "                        clf.polarity = polarity\n",
    "                        clf.feature = f_idx\n",
    "                        clf.threshold = thr\n",
    "                    \n",
    "            EPS = 1e-10\n",
    "            clf.alpha = 0.5 * np.log((1 - min_error + EPS) / (min_error+EPS))\n",
    "            \n",
    "            preds = clf.predict(X)\n",
    "            \n",
    "            w *= np.exp(-clf.alpha * preds * y)\n",
    "            w /= np.sum(w)\n",
    "            self.classifiers.append(clf)\n",
    "            \n",
    "     \n",
    "    def predict(self,X):\n",
    "        preds = [clf.alpha * clf.predict(X) for clf in self.classifiers]\n",
    "        \n",
    "        preds = np.sum(preds,axis=0)\n",
    "        preds = np.sign(preds)\n",
    "        \n",
    "        return preds\n",
    "                    \n",
    "                    \n",
    "                    \n",
    "        "
   ]
  },
  {
   "cell_type": "code",
   "execution_count": 7,
   "id": "4524ea97",
   "metadata": {},
   "outputs": [],
   "source": [
    "import sklearn\n",
    "from sklearn import datasets\n",
    "\n",
    "bc = datasets.load_breast_cancer()\n",
    "\n",
    "X,y = bc.data,bc.target\n",
    "\n",
    "y[y==0] = -1\n",
    "\n",
    "\n",
    "from sklearn.model_selection import train_test_split\n",
    "X_train,X_test,y_train,y_test = train_test_split(X,y)"
   ]
  },
  {
   "cell_type": "code",
   "execution_count": 33,
   "id": "8eae4512",
   "metadata": {},
   "outputs": [],
   "source": [
    "clf = Adaboost(10)\n",
    "clf.fit(X_train,y_train)\n",
    "preds = clf.predict(X_test)"
   ]
  },
  {
   "cell_type": "code",
   "execution_count": 34,
   "id": "c98b6224",
   "metadata": {},
   "outputs": [
    {
     "data": {
      "text/plain": [
       "0.951048951048951"
      ]
     },
     "execution_count": 34,
     "metadata": {},
     "output_type": "execute_result"
    }
   ],
   "source": [
    "acc = np.sum(preds == y_test) /len(y_test) \n",
    "acc"
   ]
  },
  {
   "cell_type": "code",
   "execution_count": 30,
   "id": "e0054d10",
   "metadata": {},
   "outputs": [
    {
     "name": "stdout",
     "output_type": "stream",
     "text": [
      "0 0.0\n",
      "5 0.9230769230769231\n",
      "10 0.951048951048951\n",
      "15 0.951048951048951\n",
      "20 0.9440559440559441\n",
      "25 0.9370629370629371\n"
     ]
    }
   ],
   "source": [
    "\n",
    "for i in range(0,30,5):\n",
    "    clf = Adaboost(i)\n",
    "    clf.fit(X_train,y_train)\n",
    "    preds = clf.predict(X_test)\n",
    "    acc = np.sum(preds == y_test) /len(y_test) \n",
    "    print(i,acc)"
   ]
  },
  {
   "cell_type": "code",
   "execution_count": null,
   "id": "3b6e4193",
   "metadata": {},
   "outputs": [],
   "source": []
  }
 ],
 "metadata": {
  "kernelspec": {
   "display_name": "Python 3 (ipykernel)",
   "language": "python",
   "name": "python3"
  },
  "language_info": {
   "codemirror_mode": {
    "name": "ipython",
    "version": 3
   },
   "file_extension": ".py",
   "mimetype": "text/x-python",
   "name": "python",
   "nbconvert_exporter": "python",
   "pygments_lexer": "ipython3",
   "version": "3.10.6"
  }
 },
 "nbformat": 4,
 "nbformat_minor": 5
}
