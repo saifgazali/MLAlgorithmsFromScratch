{
 "cells": [
  {
   "cell_type": "code",
   "execution_count": 1,
   "id": "066c561e",
   "metadata": {},
   "outputs": [],
   "source": [
    "import numpy as np"
   ]
  },
  {
   "cell_type": "code",
   "execution_count": 14,
   "id": "b7a99d4e",
   "metadata": {},
   "outputs": [],
   "source": [
    "class Perceptron:\n",
    "    def __init__(self,n_iters=1000,lr=0.01):\n",
    "        self.n_iters = n_iters \n",
    "        self.lr = lr\n",
    "        \n",
    "    def fit(self,X,y):\n",
    "        n_samples, n_features = X.shape\n",
    "        self.w = np.zeros(n_features)\n",
    "        self.b = 0\n",
    "        \n",
    "        y_ = [1 if y_i >0 else 0 for y_i in y]\n",
    "        \n",
    "        for _ in range(self.n_iters):\n",
    "            for idx,x_i in enumerate(X):\n",
    "                y_pred = np.dot(self.w,x_i) + self.b\n",
    "                y_pred = self._unit_step(y_pred)\n",
    "                \n",
    "                dw = x_i * (y_[idx] - y_pred)\n",
    "                db = y_[idx] - y_pred\n",
    "                \n",
    "                self.w += dw * self.lr\n",
    "                self.b += db * self.lr\n",
    "                \n",
    "    def predict(self,X):\n",
    "        preds = np.dot(X,self.w) + self.b\n",
    "        preds = self._unit_step(preds)\n",
    "        \n",
    "        return preds\n",
    "                \n",
    "                \n",
    "                \n",
    "    def _unit_step(self,y):\n",
    "        return np.where(y>=0,1,0)"
   ]
  },
  {
   "cell_type": "code",
   "execution_count": 3,
   "id": "56369812",
   "metadata": {},
   "outputs": [],
   "source": [
    "import sklearn\n",
    "from sklearn import datasets\n",
    "\n",
    "bc = datasets.load_breast_cancer()\n",
    "\n",
    "X,y = bc.data,bc.target\n",
    "\n",
    "\n",
    "from sklearn.model_selection import train_test_split\n",
    "X_train,X_test,y_train,y_test = train_test_split(X,y)"
   ]
  },
  {
   "cell_type": "code",
   "execution_count": 15,
   "id": "88cdc039",
   "metadata": {},
   "outputs": [],
   "source": [
    "clf = Perceptron()\n",
    "clf.fit(X_train,y_train)\n",
    "preds = clf.predict(X_test)"
   ]
  },
  {
   "cell_type": "code",
   "execution_count": 16,
   "id": "d5f08a0a",
   "metadata": {},
   "outputs": [
    {
     "data": {
      "text/plain": [
       "0.8951048951048951"
      ]
     },
     "execution_count": 16,
     "metadata": {},
     "output_type": "execute_result"
    }
   ],
   "source": [
    "acc = np.sum(preds == y_test) /len(y_test) \n",
    "acc"
   ]
  }
 ],
 "metadata": {
  "kernelspec": {
   "display_name": "Python 3 (ipykernel)",
   "language": "python",
   "name": "python3"
  },
  "language_info": {
   "codemirror_mode": {
    "name": "ipython",
    "version": 3
   },
   "file_extension": ".py",
   "mimetype": "text/x-python",
   "name": "python",
   "nbconvert_exporter": "python",
   "pygments_lexer": "ipython3",
   "version": "3.10.6"
  }
 },
 "nbformat": 4,
 "nbformat_minor": 5
}
