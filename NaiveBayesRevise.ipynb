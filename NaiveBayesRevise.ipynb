{
 "cells": [
  {
   "cell_type": "code",
   "execution_count": 1,
   "id": "9ab138b3",
   "metadata": {},
   "outputs": [],
   "source": [
    "import numpy as np"
   ]
  },
  {
   "cell_type": "code",
   "execution_count": 20,
   "id": "3ece88ce",
   "metadata": {},
   "outputs": [],
   "source": [
    "class NaiveBayes:\n",
    "    def fit(self,X,y):\n",
    "        n_samples,n_features = X.shape\n",
    "        self._classes = np.unique(y)\n",
    "        self.n_classes = len(self._classes)\n",
    "        \n",
    "        self._mean = np.zeros((self.n_classes,n_features),dtype=np.float64)\n",
    "        self._var = np.zeros((self.n_classes,n_features),dtype=np.float64)\n",
    "        self._prior = np.zeros(self.n_classes,dtype=np.float64)\n",
    "        \n",
    "        for idx,c in enumerate(self._classes):\n",
    "            X_c = X[y==c]\n",
    "            self._mean[idx,:] = X_c.mean(axis=0)\n",
    "            self._var[idx,:] = X_c.var(axis=0)\n",
    "            self._prior[idx] = X_c.shape[0]/float(n_samples)\n",
    "            \n",
    "    def predict(self,X):\n",
    "        preds = [self._predict(x) for x in X]\n",
    "        return np.array(preds)\n",
    "    \n",
    "    def _predict(self,x):        \n",
    "        posteriors = []\n",
    "        \n",
    "        for idx,c in enumerate(self._classes):\n",
    "            prior = np.log(self._prior[idx])\n",
    "            \n",
    "            posterior = np.sum(np.log(self._pdf(x,idx)))\n",
    "            \n",
    "            posterior += prior\n",
    "            \n",
    "            posteriors.append(posterior)\n",
    "            \n",
    "        return self._classes[np.argmax(posteriors)]\n",
    "            \n",
    "    def _pdf(self,x,idx):\n",
    "        mean = self._mean[idx]\n",
    "        var = self._var[idx]\n",
    "        \n",
    "        num = np.exp(-((x-mean)**2)/(2*var))\n",
    "        den = np.sqrt(2*var*np.pi)\n",
    "        \n",
    "        posterior = num/den\n",
    "        \n",
    "        return posterior\n",
    "        \n",
    "            "
   ]
  },
  {
   "cell_type": "code",
   "execution_count": 3,
   "id": "0fd116a1",
   "metadata": {},
   "outputs": [],
   "source": [
    "import sklearn\n",
    "from sklearn import datasets\n",
    "\n",
    "bc = datasets.load_breast_cancer()\n",
    "\n",
    "X,y = bc.data,bc.target\n",
    "\n",
    "from sklearn.model_selection import train_test_split\n",
    "X_train,X_test,y_train,y_test = train_test_split(X,y)"
   ]
  },
  {
   "cell_type": "code",
   "execution_count": 21,
   "id": "bfaa7cba",
   "metadata": {},
   "outputs": [
    {
     "name": "stderr",
     "output_type": "stream",
     "text": [
      "C:\\Users\\saif\\AppData\\Local\\Temp\\ipykernel_22024\\2581685597.py:27: RuntimeWarning: divide by zero encountered in log\n",
      "  posterior = np.sum(np.log(self._pdf(x,idx)))\n"
     ]
    }
   ],
   "source": [
    "clf = NaiveBayes()\n",
    "clf.fit(X_train,y_train)\n",
    "preds = clf.predict(X_test)"
   ]
  },
  {
   "cell_type": "code",
   "execution_count": 22,
   "id": "502371ce",
   "metadata": {},
   "outputs": [
    {
     "data": {
      "text/plain": [
       "0.9230769230769231"
      ]
     },
     "execution_count": 22,
     "metadata": {},
     "output_type": "execute_result"
    }
   ],
   "source": [
    "acc = np.sum(preds == y_test) /len(y_test) \n",
    "acc"
   ]
  },
  {
   "cell_type": "code",
   "execution_count": null,
   "id": "c3ec2411",
   "metadata": {},
   "outputs": [],
   "source": []
  },
  {
   "cell_type": "code",
   "execution_count": null,
   "id": "485cff7b",
   "metadata": {},
   "outputs": [],
   "source": []
  }
 ],
 "metadata": {
  "kernelspec": {
   "display_name": "Python 3 (ipykernel)",
   "language": "python",
   "name": "python3"
  },
  "language_info": {
   "codemirror_mode": {
    "name": "ipython",
    "version": 3
   },
   "file_extension": ".py",
   "mimetype": "text/x-python",
   "name": "python",
   "nbconvert_exporter": "python",
   "pygments_lexer": "ipython3",
   "version": "3.10.6"
  }
 },
 "nbformat": 4,
 "nbformat_minor": 5
}
