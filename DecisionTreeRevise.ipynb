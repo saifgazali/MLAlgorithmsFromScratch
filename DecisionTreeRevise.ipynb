{
 "cells": [
  {
   "cell_type": "code",
   "execution_count": 1,
   "id": "d93e5596",
   "metadata": {},
   "outputs": [],
   "source": [
    "import numpy as np\n",
    "import pandas as pd\n",
    "from collections import Counter"
   ]
  },
  {
   "cell_type": "code",
   "execution_count": 2,
   "id": "f46624ec",
   "metadata": {},
   "outputs": [],
   "source": [
    "class Node:\n",
    "    def __init__(self,best_feature=None,best_threshold=None,left=None,right=None,value=None):\n",
    "        self.best_feature = best_feature\n",
    "        self.best_threshold = best_threshold\n",
    "        self.left = left\n",
    "        self.right = right\n",
    "        self.value = value\n",
    "    \n",
    "    def _is_leaf_node(self):\n",
    "        return self.value is not None\n",
    "        "
   ]
  },
  {
   "cell_type": "code",
   "execution_count": 24,
   "id": "6772fa9c",
   "metadata": {},
   "outputs": [],
   "source": [
    "class DecisionTree:\n",
    "    def __init__(self,max_depth=100,min_sample_split=2,n_features=None):\n",
    "        self.max_depth = max_depth\n",
    "        self.min_sample_split = min_sample_split\n",
    "        self.n_features = n_features\n",
    "        self.root = None\n",
    "    \n",
    "    def fit(self,X,y,depth=0):\n",
    "        self.n_features = X.shape[1] if not self.n_features else min(X.shape[1],self.n_features)\n",
    "        \n",
    "        self.root = self._grow_tree(X,y,depth)\n",
    "    \n",
    "    def _grow_tree(self,X,y,depth):\n",
    "        n_samples, n_features = X.shape\n",
    "        n_labels = len(np.unique(y))\n",
    "        \n",
    "        #stopping criteria\n",
    "        #depth > max_depth or labels ==1 or n_samples < min_sample_split\n",
    "        if (depth >= self.max_depth or n_labels == 1 or n_samples < self.min_sample_split):\n",
    "            leaf_value = self._most_common_label(y)\n",
    "            return Node(value=leaf_value)\n",
    "        \n",
    "        #getting the features \n",
    "        feature_idxs = np.random.choice(n_features,self.n_features,replace=False)\n",
    "        \n",
    "        best_feature, best_threshold = self._best_split(X,y,feature_idxs)\n",
    "        \n",
    "        left_idx, right_idx = self._split(X[:,best_feature],best_threshold)\n",
    "        \n",
    "        left = self._grow_tree(X[left_idx,:],y[left_idx],depth+1)\n",
    "        right = self._grow_tree(X[right_idx,:],y[right_idx],depth+1)\n",
    "        \n",
    "        return Node(best_feature=best_feature,best_threshold=best_threshold,left=left,right=right)\n",
    "    \n",
    "    \n",
    "    def _best_split(self,X,y,feature_idxs):\n",
    "        best_gain = -1\n",
    "        split_feature, split_threshold = None,None\n",
    "        \n",
    "        for feature_id in feature_idxs:\n",
    "            X_c = X[:,feature_id]\n",
    "            thresholds = np.unique(X_c)\n",
    "            \n",
    "            for thr in thresholds:\n",
    "                gain = self._information_gain(X_c,y,thr)\n",
    "                \n",
    "                if gain > best_gain:\n",
    "                    best_gain = gain\n",
    "                    split_feature = feature_id\n",
    "                    split_threshold = thr\n",
    "                    \n",
    "        return split_feature,split_threshold\n",
    "    \n",
    "    def _information_gain(self,X,y,threshold):\n",
    "        #entropy(parent) - weighted avg(entropy(children))\n",
    "        \n",
    "        parent_entropy = self._entropy(y)\n",
    "        \n",
    "        left_idxs, right_idxs = self._split(X,threshold)\n",
    "        \n",
    "        if len(left_idxs) == 0 or len(right_idxs) == 0:\n",
    "            return 0\n",
    "        \n",
    "        n_l,n_r = len(left_idxs),len(right_idxs)\n",
    "        e_l,e_r = self._entropy(y[left_idxs]),self._entropy(y[right_idxs])\n",
    "        \n",
    "        child_entropy = (n_l/len(y))*e_l + (n_r/len(y))*e_r\n",
    "        \n",
    "        \n",
    "        return parent_entropy - child_entropy\n",
    "    \n",
    "    def _entropy(self,y):\n",
    "        count = np.bincount(y)\n",
    "        \n",
    "        px = count/len(y)\n",
    "        \n",
    "        entropy = -np.sum([p * np.log(p) for p in px if p > 0])\n",
    "        \n",
    "        return entropy\n",
    "    \n",
    "    \n",
    "    def _split(self,X,thr):\n",
    "        left_idxs = np.argwhere(X<=thr).flatten()\n",
    "        right_idxs = np.argwhere(X>thr).flatten()\n",
    "        \n",
    "        return left_idxs,right_idxs\n",
    "        \n",
    "            \n",
    "    def _most_common_label(self,y):\n",
    "        counter = Counter(y)\n",
    "        most_common = counter.most_common(1)[0][0]\n",
    "        return most_common\n",
    "    \n",
    "    def predict(self,X):\n",
    "        preds = np.array([self._traverse_tree(x,self.root) for x in X])\n",
    "        return preds\n",
    "    \n",
    "    def _traverse_tree(self,x,node):\n",
    "        if node._is_leaf_node():\n",
    "            return node.value\n",
    "        \n",
    "        if x[node.best_feature] <= node.best_threshold:\n",
    "            return self._traverse_tree(x,node.left)\n",
    "        \n",
    "        return self._traverse_tree(x,node.right)\n",
    "        "
   ]
  },
  {
   "cell_type": "code",
   "execution_count": 9,
   "id": "10143229",
   "metadata": {},
   "outputs": [],
   "source": [
    "import sklearn\n",
    "from sklearn import datasets\n",
    "\n",
    "bc = datasets.load_breast_cancer()\n",
    "\n",
    "X,y = bc.data,bc.target\n",
    "\n",
    "from sklearn.model_selection import train_test_split\n",
    "X_train,X_test,y_train,y_test = train_test_split(X,y)"
   ]
  },
  {
   "cell_type": "code",
   "execution_count": 25,
   "id": "a969a581",
   "metadata": {},
   "outputs": [],
   "source": [
    "clf = DecisionTree()\n",
    "clf.fit(X_train,y_train)\n",
    "preds = clf.predict(X_test)"
   ]
  },
  {
   "cell_type": "code",
   "execution_count": 26,
   "id": "e135fa80",
   "metadata": {},
   "outputs": [
    {
     "data": {
      "text/plain": [
       "0.951048951048951"
      ]
     },
     "execution_count": 26,
     "metadata": {},
     "output_type": "execute_result"
    }
   ],
   "source": [
    "acc = np.sum(y_test == preds)/len(y_test)\n",
    "acc"
   ]
  },
  {
   "cell_type": "code",
   "execution_count": null,
   "id": "33430845",
   "metadata": {},
   "outputs": [],
   "source": []
  },
  {
   "cell_type": "code",
   "execution_count": 4,
   "id": "01546d6d",
   "metadata": {},
   "outputs": [
    {
     "data": {
      "text/plain": [
       "array([0, 2, 2, 1, 1, 1], dtype=int64)"
      ]
     },
     "execution_count": 4,
     "metadata": {},
     "output_type": "execute_result"
    }
   ],
   "source": [
    "x = [1,2,4,5,2,1,3]\n",
    "np.bincount(x)"
   ]
  },
  {
   "cell_type": "code",
   "execution_count": 7,
   "id": "5caf6cbd",
   "metadata": {},
   "outputs": [
    {
     "data": {
      "text/plain": [
       "array([1, 2, 4, 4])"
      ]
     },
     "execution_count": 7,
     "metadata": {},
     "output_type": "execute_result"
    }
   ],
   "source": [
    "np.array([[1,2,4,4]]).flatten()"
   ]
  },
  {
   "cell_type": "code",
   "execution_count": null,
   "id": "da5bc047",
   "metadata": {},
   "outputs": [],
   "source": []
  },
  {
   "cell_type": "code",
   "execution_count": null,
   "id": "38ebeec7",
   "metadata": {},
   "outputs": [],
   "source": []
  }
 ],
 "metadata": {
  "kernelspec": {
   "display_name": "Python 3 (ipykernel)",
   "language": "python",
   "name": "python3"
  },
  "language_info": {
   "codemirror_mode": {
    "name": "ipython",
    "version": 3
   },
   "file_extension": ".py",
   "mimetype": "text/x-python",
   "name": "python",
   "nbconvert_exporter": "python",
   "pygments_lexer": "ipython3",
   "version": "3.10.6"
  }
 },
 "nbformat": 4,
 "nbformat_minor": 5
}
