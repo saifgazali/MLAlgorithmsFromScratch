{
 "cells": [
  {
   "cell_type": "code",
   "execution_count": 1,
   "id": "c6a36cd1",
   "metadata": {},
   "outputs": [],
   "source": [
    "import numpy as np"
   ]
  },
  {
   "cell_type": "code",
   "execution_count": 6,
   "id": "163e465f",
   "metadata": {},
   "outputs": [],
   "source": [
    "class SVM:\n",
    "    def __init__(self,_lambda=0.01,num_iters=1000,lr=0.01):\n",
    "        self.num_iters = num_iters\n",
    "        self.lr = lr\n",
    "        self._lambda = _lambda\n",
    "    \n",
    "    def fit(self,X,y):\n",
    "        self.w = np.zeros(X.shape[1])\n",
    "        self.b = 0\n",
    "        \n",
    "        y_ = [1 if i>0 else -1 for i in y]\n",
    "        for _ in range(self.num_iters):\n",
    "            for idx,x_i in enumerate(X):\n",
    "                condition = y_[idx] * (np.dot(self.w,x_i) - self.b) >=1\n",
    "                \n",
    "                if condition:\n",
    "                    dw = 2 * self._lambda * self.w\n",
    "                    self.w -= dw * self.lr\n",
    "                \n",
    "                else:\n",
    "                    dw = (2 * self._lambda * self.w)  - (y_[idx] * x_i)\n",
    "                    db = y_[idx]\n",
    "                    \n",
    "                    self.w -= self.lr * dw\n",
    "                    self.b -= self.lr * db\n",
    "    \n",
    "    def predict(self,X):\n",
    "        preds = np.dot(self.w,X.T) + self.b\n",
    "        return np.sign(preds)\n",
    "                        \n",
    "                        "
   ]
  },
  {
   "cell_type": "code",
   "execution_count": 4,
   "id": "fab19b2c",
   "metadata": {},
   "outputs": [],
   "source": [
    "import sklearn\n",
    "from sklearn import datasets\n",
    "\n",
    "bc = datasets.load_breast_cancer()\n",
    "\n",
    "X,y = bc.data,bc.target\n",
    "\n",
    "y = np.where(y<=0,-1,1)\n",
    "\n",
    "from sklearn.model_selection import train_test_split\n",
    "X_train,X_test,y_train,y_test = train_test_split(X,y)"
   ]
  },
  {
   "cell_type": "code",
   "execution_count": 7,
   "id": "08c13e22",
   "metadata": {},
   "outputs": [],
   "source": [
    "clf = SVM()\n",
    "clf.fit(X_train,y_train)\n",
    "preds = clf.predict(X_test)"
   ]
  },
  {
   "cell_type": "code",
   "execution_count": 8,
   "id": "1ee1a92d",
   "metadata": {},
   "outputs": [
    {
     "data": {
      "text/plain": [
       "0.8881118881118881"
      ]
     },
     "execution_count": 8,
     "metadata": {},
     "output_type": "execute_result"
    }
   ],
   "source": [
    "acc = np.sum(preds == y_test) /len(y_test) \n",
    "acc"
   ]
  }
 ],
 "metadata": {
  "kernelspec": {
   "display_name": "Python 3 (ipykernel)",
   "language": "python",
   "name": "python3"
  },
  "language_info": {
   "codemirror_mode": {
    "name": "ipython",
    "version": 3
   },
   "file_extension": ".py",
   "mimetype": "text/x-python",
   "name": "python",
   "nbconvert_exporter": "python",
   "pygments_lexer": "ipython3",
   "version": "3.10.6"
  }
 },
 "nbformat": 4,
 "nbformat_minor": 5
}
