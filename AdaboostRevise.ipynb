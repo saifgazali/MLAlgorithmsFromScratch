{
 "cells": [
  {
   "cell_type": "code",
   "execution_count": 1,
   "id": "a3da41b9",
   "metadata": {},
   "outputs": [],
   "source": [
    "import numpy as np\n",
    "import pandas as pd"
   ]
  },
  {
   "cell_type": "code",
   "execution_count": 2,
   "id": "62d1e959",
   "metadata": {},
   "outputs": [],
   "source": [
    "class DecisionStump:\n",
    "    def __init__(self):\n",
    "        self.polarity = 1\n",
    "        self.feature_idx = None\n",
    "        self.threshold = None\n",
    "        self.alpha = None\n",
    "        \n",
    "    def predict(self,X):\n",
    "        n_samples = X.shape[0]\n",
    "        X_c = X[:,self.feature_idx]\n",
    "        preds = np.ones(n_samples)\n",
    "        if self.polarity == 1:\n",
    "            preds[X_c < self.threshold] = -1\n",
    "        else:\n",
    "            preds[X_c > self.threshold] = -1\n",
    "            \n",
    "        return preds"
   ]
  },
  {
   "cell_type": "code",
   "execution_count": 3,
   "id": "8ddf0d4a",
   "metadata": {},
   "outputs": [],
   "source": [
    "class Adaboost:\n",
    "    def __init__(self,n_clf):\n",
    "        self.n_clf = n_clf \n",
    "        \n",
    "    def fit(self,X,y):\n",
    "        n_samples,n_features = X.shape\n",
    "        \n",
    "        #initialize weights for the dataset\n",
    "        w = np.full(n_samples,1/n_samples)\n",
    "        \n",
    "        \n",
    "        \n",
    "        self.clfs = []\n",
    "        \n",
    "        for _ in range(self.n_clf):\n",
    "            \n",
    "            clf = DecisionStump()\n",
    "            \n",
    "            min_error = float('inf')\n",
    "        \n",
    "            #find the best feature and threshold\n",
    "            for feature_idx in range(n_features):\n",
    "                X_c = X[:,feature_idx]\n",
    "                thresholds = np.unique(X_c)\n",
    "            \n",
    "                #looping all possible thresholds\n",
    "                for thr in thresholds:\n",
    "                    polarity = 1\n",
    "                    preds = np.ones(n_samples)\n",
    "                    preds[X_c < thr] = -1\n",
    "                \n",
    "                    #error\n",
    "                    misclassification = w[preds != y]\n",
    "                    error = sum(misclassification)\n",
    "                \n",
    "                    if error > 0.5:\n",
    "                        error = 1 - error\n",
    "                        polarity = -1\n",
    "                \n",
    "                    if error < min_error:\n",
    "                        min_error = error\n",
    "                        clf.polarity = polarity\n",
    "                        clf.feature_idx = feature_idx\n",
    "                        clf.threshold = thr\n",
    "                \n",
    "                \n",
    "                EPS = 1e-10\n",
    "                clf.alpha = 0.5 * np.log((1-min_error+EPS)/(min_error + EPS))\n",
    "            \n",
    "                preds = clf.predict(X)\n",
    "            \n",
    "                #updating weights of data points\n",
    "                w *= np.exp(-clf.alpha * y * preds)\n",
    "                w /= np.sum(w)\n",
    "            \n",
    "                self.clfs.append(clf)\n",
    "        \n",
    "    def predict(self,X):\n",
    "        preds = [clf.alpha * clf.predict(X) for clf in self.clfs]\n",
    "        y_preds = np.sum(preds,axis=0)\n",
    "        y_preds = np.sign(y_preds)\n",
    "        return y_preds"
   ]
  },
  {
   "cell_type": "code",
   "execution_count": 4,
   "id": "ff53f3f6",
   "metadata": {},
   "outputs": [],
   "source": [
    "import sklearn\n",
    "from sklearn import datasets\n",
    "\n",
    "bc = datasets.load_breast_cancer()\n",
    "\n",
    "X,y = bc.data,bc.target\n",
    "\n",
    "y[y==0] = -1\n",
    "\n",
    "\n",
    "from sklearn.model_selection import train_test_split\n",
    "X_train,X_test,y_train,y_test = train_test_split(X,y)"
   ]
  },
  {
   "cell_type": "code",
   "execution_count": 17,
   "id": "0e00ce16",
   "metadata": {},
   "outputs": [],
   "source": [
    "clf = Adaboost(5)\n",
    "clf.fit(X_train,y_train)\n",
    "preds = clf.predict(X_test)"
   ]
  },
  {
   "cell_type": "code",
   "execution_count": 18,
   "id": "423d5e95",
   "metadata": {},
   "outputs": [
    {
     "data": {
      "text/plain": [
       "0.9300699300699301"
      ]
     },
     "execution_count": 18,
     "metadata": {},
     "output_type": "execute_result"
    }
   ],
   "source": [
    "acc = np.sum(preds == y_test)/ len(preds)\n",
    "acc"
   ]
  },
  {
   "cell_type": "code",
   "execution_count": 5,
   "id": "c9ce2e9c",
   "metadata": {},
   "outputs": [
    {
     "data": {
      "text/plain": [
       "2"
      ]
     },
     "execution_count": 5,
     "metadata": {},
     "output_type": "execute_result"
    }
   ],
   "source": [
    "X = np.array([2,2])\n",
    "X.shape[0]"
   ]
  },
  {
   "cell_type": "code",
   "execution_count": 6,
   "id": "58edaa21",
   "metadata": {},
   "outputs": [
    {
     "data": {
      "text/plain": [
       "array([1., 1., 1.])"
      ]
     },
     "execution_count": 6,
     "metadata": {},
     "output_type": "execute_result"
    }
   ],
   "source": [
    "np.ones(3)"
   ]
  }
 ],
 "metadata": {
  "kernelspec": {
   "display_name": "Python 3 (ipykernel)",
   "language": "python",
   "name": "python3"
  },
  "language_info": {
   "codemirror_mode": {
    "name": "ipython",
    "version": 3
   },
   "file_extension": ".py",
   "mimetype": "text/x-python",
   "name": "python",
   "nbconvert_exporter": "python",
   "pygments_lexer": "ipython3",
   "version": "3.10.6"
  }
 },
 "nbformat": 4,
 "nbformat_minor": 5
}
