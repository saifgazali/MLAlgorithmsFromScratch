{
 "cells": [
  {
   "cell_type": "code",
   "execution_count": 1,
   "id": "dc350ff7",
   "metadata": {},
   "outputs": [],
   "source": [
    "import numpy as np"
   ]
  },
  {
   "cell_type": "code",
   "execution_count": 9,
   "id": "1e3ed3c9",
   "metadata": {},
   "outputs": [],
   "source": [
    "class SVM:\n",
    "    def __init__(self,lr=0.01,lambda_param=2,epochs=100):\n",
    "        self.lr = lr\n",
    "        self.lambda_param = lambda_param\n",
    "        self.epochs = epochs\n",
    "        \n",
    "        self.w = None\n",
    "        self.b = None\n",
    "    \n",
    "    def fit(self,X,y):\n",
    "        n_samples, n_features = X.shape\n",
    "        \n",
    "        y_ = np.where(y<=0,-1,1)\n",
    "        \n",
    "        self.w = np.zeros(n_features)\n",
    "        self.b = 0\n",
    "        \n",
    "        for _ in range(self.epochs):\n",
    "            for idx,x_i in enumerate(X):\n",
    "                condition = y_[idx] * (np.dot(x_i,self.w) - self.b) >= 1\n",
    "                \n",
    "                if condition:\n",
    "                    dw = 2 * self.lambda_param * self.w\n",
    "                    self.w -= dw * self.lr\n",
    "                \n",
    "                else:\n",
    "                    dw = (2 * self.lambda_param * self.w) - y_[idx] * x_i\n",
    "                    self.w -= dw * self.lr\n",
    "                    \n",
    "                    self.b -= y_[idx] * self.lr\n",
    "                    \n",
    "    \n",
    "    def predict(self,X):\n",
    "        preds = np.dot(X,self.w) + self.b\n",
    "        \n",
    "        return np.sign(preds)\n",
    "                    \n",
    "                \n",
    "        "
   ]
  },
  {
   "cell_type": "code",
   "execution_count": 3,
   "id": "8a60313b",
   "metadata": {},
   "outputs": [],
   "source": [
    "import sklearn\n",
    "from sklearn import datasets\n",
    "\n",
    "bc = datasets.load_breast_cancer()\n",
    "\n",
    "X,y = bc.data,bc.target\n",
    "\n",
    "y = np.where(y<=0,-1,1)\n",
    "\n",
    "from sklearn.model_selection import train_test_split\n",
    "X_train,X_test,y_train,y_test = train_test_split(X,y)"
   ]
  },
  {
   "cell_type": "code",
   "execution_count": 24,
   "id": "7b4af7bc",
   "metadata": {},
   "outputs": [],
   "source": [
    "clf = SVM(lr=0.001,lambda_param=0.001,epochs=1000)\n",
    "clf.fit(X_train,y_train)\n",
    "preds = clf.predict(X_test)"
   ]
  },
  {
   "cell_type": "code",
   "execution_count": 25,
   "id": "aa874ecb",
   "metadata": {},
   "outputs": [
    {
     "data": {
      "text/plain": [
       "0.951048951048951"
      ]
     },
     "execution_count": 25,
     "metadata": {},
     "output_type": "execute_result"
    }
   ],
   "source": [
    "acc = np.sum(preds == y_test) /len(y_test) \n",
    "acc"
   ]
  },
  {
   "cell_type": "code",
   "execution_count": null,
   "id": "bea2dadb",
   "metadata": {},
   "outputs": [],
   "source": []
  },
  {
   "cell_type": "code",
   "execution_count": null,
   "id": "b294ca1d",
   "metadata": {},
   "outputs": [],
   "source": []
  }
 ],
 "metadata": {
  "kernelspec": {
   "display_name": "Python 3 (ipykernel)",
   "language": "python",
   "name": "python3"
  },
  "language_info": {
   "codemirror_mode": {
    "name": "ipython",
    "version": 3
   },
   "file_extension": ".py",
   "mimetype": "text/x-python",
   "name": "python",
   "nbconvert_exporter": "python",
   "pygments_lexer": "ipython3",
   "version": "3.10.6"
  }
 },
 "nbformat": 4,
 "nbformat_minor": 5
}
