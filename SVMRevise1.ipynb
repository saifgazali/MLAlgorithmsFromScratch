{
 "cells": [
  {
   "cell_type": "code",
   "execution_count": 1,
   "id": "493f98cd",
   "metadata": {},
   "outputs": [],
   "source": [
    "import numpy as np"
   ]
  },
  {
   "cell_type": "code",
   "execution_count": 31,
   "id": "479a38a0",
   "metadata": {},
   "outputs": [],
   "source": [
    "class SVM:\n",
    "    def __init__(self,n_iter=100,lr=0.01,lambda_param=0.01):\n",
    "        self.lr = lr\n",
    "        self.lambda_param = lambda_param\n",
    "        self.n_iter = n_iter\n",
    "        \n",
    "        self.w = None\n",
    "        self.b = None\n",
    "    \n",
    "    def fit(self,X,y):\n",
    "        n_samples,n_features = X.shape\n",
    "        \n",
    "        self.w = np.zeros(n_features)\n",
    "        self.b = 0\n",
    "        \n",
    "        y_ = np.where(y<=0,-1,1)\n",
    "        \n",
    "        for _ in range(self.n_iter):\n",
    "            for i, x in enumerate(X):\n",
    "                condition = y_[i] * (np.dot(x,self.w) - self.b) >= 1\n",
    "                if condition:\n",
    "                    dw = 2 * self.lambda_param * self.w\n",
    "                    \n",
    "                    self.w -= dw * self.lr\n",
    "                \n",
    "                else:\n",
    "                    dw = (2 * self.lambda_param * self.w) - y_[i] * x\n",
    "                    db = y[i]\n",
    "                    \n",
    "                    self.w -= dw * self.lr\n",
    "                    self.b -= db * self.lr\n",
    "                    \n",
    "    def predict(self,X):\n",
    "        preds = np.dot(X,self.w) + self.b\n",
    "        return np.sign(preds)\n",
    "                    \n",
    "                "
   ]
  },
  {
   "cell_type": "code",
   "execution_count": 28,
   "id": "054f5028",
   "metadata": {},
   "outputs": [],
   "source": [
    "import sklearn\n",
    "from sklearn import datasets\n",
    "\n",
    "bc = datasets.load_breast_cancer()\n",
    "\n",
    "X,y = bc.data,bc.target\n",
    "\n",
    "y = np.where(y<=0,-1,1)\n",
    "\n",
    "from sklearn.model_selection import train_test_split\n",
    "X_train,X_test,y_train,y_test = train_test_split(X,y)"
   ]
  },
  {
   "cell_type": "code",
   "execution_count": 33,
   "id": "bea1e368",
   "metadata": {},
   "outputs": [],
   "source": [
    "clf = SVM()\n",
    "clf.fit(X_train,y_train)\n",
    "preds = clf.predict(X_test)"
   ]
  },
  {
   "cell_type": "code",
   "execution_count": 34,
   "id": "71f0ee3a",
   "metadata": {},
   "outputs": [
    {
     "data": {
      "text/plain": [
       "0.8811188811188811"
      ]
     },
     "execution_count": 34,
     "metadata": {},
     "output_type": "execute_result"
    }
   ],
   "source": [
    "acc = np.sum(preds == y_test) /len(y_test) \n",
    "acc"
   ]
  },
  {
   "cell_type": "code",
   "execution_count": null,
   "id": "de39c35c",
   "metadata": {},
   "outputs": [],
   "source": []
  }
 ],
 "metadata": {
  "kernelspec": {
   "display_name": "Python 3 (ipykernel)",
   "language": "python",
   "name": "python3"
  },
  "language_info": {
   "codemirror_mode": {
    "name": "ipython",
    "version": 3
   },
   "file_extension": ".py",
   "mimetype": "text/x-python",
   "name": "python",
   "nbconvert_exporter": "python",
   "pygments_lexer": "ipython3",
   "version": "3.10.6"
  }
 },
 "nbformat": 4,
 "nbformat_minor": 5
}
