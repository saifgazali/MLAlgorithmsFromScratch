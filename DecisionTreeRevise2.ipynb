{
 "cells": [
  {
   "cell_type": "code",
   "execution_count": 43,
   "id": "d4de7dca",
   "metadata": {},
   "outputs": [],
   "source": [
    "import numpy as np\n",
    "from collections import Counter"
   ]
  },
  {
   "cell_type": "code",
   "execution_count": 44,
   "id": "c94b2a52",
   "metadata": {},
   "outputs": [],
   "source": [
    "class Node:\n",
    "    def __init__(self,feature=None,threshold=None,left=None,right=None,*,value=None):\n",
    "        self.feature = feature\n",
    "        self.threshold = threshold\n",
    "        self.left = left\n",
    "        self.right = right\n",
    "        self.value = value\n",
    "    \n",
    "    def _is_leaf_node(self):\n",
    "        return self.value is not None"
   ]
  },
  {
   "cell_type": "code",
   "execution_count": 45,
   "id": "c832c8d7",
   "metadata": {},
   "outputs": [],
   "source": [
    "class DecisionTree:\n",
    "    def __init__(self,min_samples_split=2,max_depth=100,n_features=None):\n",
    "        self.min_samples_split = min_samples_split\n",
    "        self.max_depth = max_depth\n",
    "        self.n_features = n_features\n",
    "        self.root = None\n",
    "    \n",
    "    def fit(self,X,y):\n",
    "        self.n_features = X.shape[1] if not self.n_features else min(X.shape[1],self.n_features)\n",
    "        self.root = self._grow_tree(X,y,0)\n",
    "    \n",
    "    def _grow_tree(self,X,y,depth=0):\n",
    "        n_samples, n_features = X.shape\n",
    "        labels = np.unique(y)\n",
    "        self.n_labels = len(labels)\n",
    "        \n",
    "        \n",
    "        #stopping criteria\n",
    "        if(self.max_depth<= depth or self.min_samples_split > n_samples or self.n_labels == 1):\n",
    "            value = self._most_common_label(y)\n",
    "            return Node(value=value)\n",
    "        \n",
    "        feature_idxs = np.random.choice(n_features,self.n_features,replace=False)\n",
    "        \n",
    "        best_feature,best_threshold = self._best_split(X,y,feature_idxs)\n",
    "        \n",
    "        left_idxs,right_idxs = self._split(X[:,best_feature],best_threshold)\n",
    "        \n",
    "        left_node = self._grow_tree(X[left_idxs,:],y[left_idxs],depth+1)\n",
    "        right_node = self._grow_tree(X[right_idxs,:],y[right_idxs],depth+1)\n",
    "        \n",
    "        return Node(feature=best_feature,threshold=best_threshold,left=left_node,right=right_node)\n",
    "    \n",
    "        \n",
    "        \n",
    "        \n",
    "    def _best_split(self,X,y,feat_idxs):\n",
    "        \n",
    "        best_gain = -1\n",
    "        best_feature,best_threshold = None,None\n",
    "        for idx in feat_idxs:\n",
    "            X_c = X[:,feat_idxs]\n",
    "            \n",
    "            thresholds = np.unique(X_c)\n",
    "            \n",
    "            for thr in thresholds:\n",
    "                info_gain = self._info_gain(X_c,y,thr)\n",
    "                \n",
    "                if best_gain < info_gain:\n",
    "                    best_gain = info_gain\n",
    "                    best_feature = idx\n",
    "                    best_threshold = thr\n",
    "        \n",
    "        return best_feature,best_threshold\n",
    "    \n",
    "    def _info_gain(self,X_c,y,thr):\n",
    "        parent_entropy = self._entropy(y)\n",
    "        \n",
    "        left_idxs, right_idxs = self._split(X_c,thr)\n",
    "        \n",
    "        if (len(left_idxs) == 0 or len(right_idxs) == 0):\n",
    "            return 0\n",
    "        \n",
    "        n_l,n_r = len(left_idxs),len(right_idxs)\n",
    "        e_l,e_r = self._entropy(y[left_idxs]),self._entropy(y[right_idxs])\n",
    "        \n",
    "        children_entropy = ((n_l/len(y)) * e_l ) + ((n_r/len(y)) * e_r)\n",
    "        \n",
    "        return parent_entropy - children_entropy\n",
    "        \n",
    "    \n",
    "    def _entropy(self,y):\n",
    "        hist = np.bincount(y)\n",
    "        \n",
    "        px = hist/len(y)\n",
    "        \n",
    "        return -np.sum([np.log(p) * p for p in px if p>0])\n",
    "        \n",
    "    \n",
    "    def _split(self,X_c,thr):\n",
    "        left_idxs = np.argwhere(X_c <= thr).flatten()\n",
    "        right_idxs = np.argwhere(X_c > thr).flatten()\n",
    "        \n",
    "        return left_idxs,right_idxs\n",
    "        \n",
    "                    \n",
    "    \n",
    "    def _most_common_label(self,y):\n",
    "        counter = Counter(y)\n",
    "        #most common label(and the first one in case 2 labels have same number of elements)\n",
    "        value = counter.most_common(1)[0][0]\n",
    "        return value\n",
    "        \n",
    "    def predict(self,X):\n",
    "        return np.array([self._traverse_tree(x,self.root) for x in X])\n",
    "    \n",
    "    def _traverse_tree(self,x,node):\n",
    "        if node._is_leaf_node():\n",
    "            return node.value\n",
    "        \n",
    "        if x[node.feature] <= node.threshold:\n",
    "            return self._traverse_tree(x,node.left)\n",
    "        \n",
    "        return self._traverse_tree(x,node.right)\n",
    "    "
   ]
  },
  {
   "cell_type": "code",
   "execution_count": 46,
   "id": "2bc99b7e",
   "metadata": {},
   "outputs": [],
   "source": [
    "import sklearn\n",
    "from sklearn import datasets\n",
    "\n",
    "bc = datasets.load_breast_cancer()\n",
    "\n",
    "X,y = bc.data,bc.target\n",
    "\n",
    "from sklearn.model_selection import train_test_split\n",
    "X_train,X_test,y_train,y_test = train_test_split(X,y)"
   ]
  },
  {
   "cell_type": "code",
   "execution_count": 47,
   "id": "624718f7",
   "metadata": {},
   "outputs": [
    {
     "ename": "KeyboardInterrupt",
     "evalue": "",
     "output_type": "error",
     "traceback": [
      "\u001b[1;31m---------------------------------------------------------------------------\u001b[0m",
      "\u001b[1;31mKeyboardInterrupt\u001b[0m                         Traceback (most recent call last)",
      "Input \u001b[1;32mIn [47]\u001b[0m, in \u001b[0;36m<cell line: 2>\u001b[1;34m()\u001b[0m\n\u001b[0;32m      1\u001b[0m clf \u001b[38;5;241m=\u001b[39m DecisionTree()\n\u001b[1;32m----> 2\u001b[0m \u001b[43mclf\u001b[49m\u001b[38;5;241;43m.\u001b[39;49m\u001b[43mfit\u001b[49m\u001b[43m(\u001b[49m\u001b[43mX_train\u001b[49m\u001b[43m,\u001b[49m\u001b[43my_train\u001b[49m\u001b[43m)\u001b[49m\n",
      "Input \u001b[1;32mIn [45]\u001b[0m, in \u001b[0;36mDecisionTree.fit\u001b[1;34m(self, X, y)\u001b[0m\n\u001b[0;32m      8\u001b[0m \u001b[38;5;28;01mdef\u001b[39;00m \u001b[38;5;21mfit\u001b[39m(\u001b[38;5;28mself\u001b[39m,X,y):\n\u001b[0;32m      9\u001b[0m     \u001b[38;5;28mself\u001b[39m\u001b[38;5;241m.\u001b[39mn_features \u001b[38;5;241m=\u001b[39m X\u001b[38;5;241m.\u001b[39mshape[\u001b[38;5;241m1\u001b[39m] \u001b[38;5;28;01mif\u001b[39;00m \u001b[38;5;129;01mnot\u001b[39;00m \u001b[38;5;28mself\u001b[39m\u001b[38;5;241m.\u001b[39mn_features \u001b[38;5;28;01melse\u001b[39;00m \u001b[38;5;28mmin\u001b[39m(X\u001b[38;5;241m.\u001b[39mshape[\u001b[38;5;241m1\u001b[39m],\u001b[38;5;28mself\u001b[39m\u001b[38;5;241m.\u001b[39mn_features)\n\u001b[1;32m---> 10\u001b[0m     \u001b[38;5;28mself\u001b[39m\u001b[38;5;241m.\u001b[39mroot \u001b[38;5;241m=\u001b[39m \u001b[38;5;28;43mself\u001b[39;49m\u001b[38;5;241;43m.\u001b[39;49m\u001b[43m_grow_tree\u001b[49m\u001b[43m(\u001b[49m\u001b[43mX\u001b[49m\u001b[43m,\u001b[49m\u001b[43my\u001b[49m\u001b[43m,\u001b[49m\u001b[38;5;241;43m0\u001b[39;49m\u001b[43m)\u001b[49m\n",
      "Input \u001b[1;32mIn [45]\u001b[0m, in \u001b[0;36mDecisionTree._grow_tree\u001b[1;34m(self, X, y, depth)\u001b[0m\n\u001b[0;32m     25\u001b[0m best_feature,best_threshold \u001b[38;5;241m=\u001b[39m \u001b[38;5;28mself\u001b[39m\u001b[38;5;241m.\u001b[39m_best_split(X,y,feature_idxs)\n\u001b[0;32m     27\u001b[0m left_idxs,right_idxs \u001b[38;5;241m=\u001b[39m \u001b[38;5;28mself\u001b[39m\u001b[38;5;241m.\u001b[39m_split(X[:,best_feature],best_threshold)\n\u001b[1;32m---> 29\u001b[0m left_node \u001b[38;5;241m=\u001b[39m \u001b[38;5;28;43mself\u001b[39;49m\u001b[38;5;241;43m.\u001b[39;49m\u001b[43m_grow_tree\u001b[49m\u001b[43m(\u001b[49m\u001b[43mX\u001b[49m\u001b[43m[\u001b[49m\u001b[43mleft_idxs\u001b[49m\u001b[43m,\u001b[49m\u001b[43m:\u001b[49m\u001b[43m]\u001b[49m\u001b[43m,\u001b[49m\u001b[43my\u001b[49m\u001b[43m[\u001b[49m\u001b[43mleft_idxs\u001b[49m\u001b[43m]\u001b[49m\u001b[43m,\u001b[49m\u001b[43mdepth\u001b[49m\u001b[38;5;241;43m+\u001b[39;49m\u001b[38;5;241;43m1\u001b[39;49m\u001b[43m)\u001b[49m\n\u001b[0;32m     30\u001b[0m right_node \u001b[38;5;241m=\u001b[39m \u001b[38;5;28mself\u001b[39m\u001b[38;5;241m.\u001b[39m_grow_tree(X[right_idxs,:],y[right_idxs],depth\u001b[38;5;241m+\u001b[39m\u001b[38;5;241m1\u001b[39m)\n\u001b[0;32m     32\u001b[0m \u001b[38;5;28;01mreturn\u001b[39;00m Node(feature\u001b[38;5;241m=\u001b[39mbest_feature,threshold\u001b[38;5;241m=\u001b[39mbest_threshold,left\u001b[38;5;241m=\u001b[39mleft_node,right\u001b[38;5;241m=\u001b[39mright_node)\n",
      "Input \u001b[1;32mIn [45]\u001b[0m, in \u001b[0;36mDecisionTree._grow_tree\u001b[1;34m(self, X, y, depth)\u001b[0m\n\u001b[0;32m     25\u001b[0m best_feature,best_threshold \u001b[38;5;241m=\u001b[39m \u001b[38;5;28mself\u001b[39m\u001b[38;5;241m.\u001b[39m_best_split(X,y,feature_idxs)\n\u001b[0;32m     27\u001b[0m left_idxs,right_idxs \u001b[38;5;241m=\u001b[39m \u001b[38;5;28mself\u001b[39m\u001b[38;5;241m.\u001b[39m_split(X[:,best_feature],best_threshold)\n\u001b[1;32m---> 29\u001b[0m left_node \u001b[38;5;241m=\u001b[39m \u001b[38;5;28;43mself\u001b[39;49m\u001b[38;5;241;43m.\u001b[39;49m\u001b[43m_grow_tree\u001b[49m\u001b[43m(\u001b[49m\u001b[43mX\u001b[49m\u001b[43m[\u001b[49m\u001b[43mleft_idxs\u001b[49m\u001b[43m,\u001b[49m\u001b[43m:\u001b[49m\u001b[43m]\u001b[49m\u001b[43m,\u001b[49m\u001b[43my\u001b[49m\u001b[43m[\u001b[49m\u001b[43mleft_idxs\u001b[49m\u001b[43m]\u001b[49m\u001b[43m,\u001b[49m\u001b[43mdepth\u001b[49m\u001b[38;5;241;43m+\u001b[39;49m\u001b[38;5;241;43m1\u001b[39;49m\u001b[43m)\u001b[49m\n\u001b[0;32m     30\u001b[0m right_node \u001b[38;5;241m=\u001b[39m \u001b[38;5;28mself\u001b[39m\u001b[38;5;241m.\u001b[39m_grow_tree(X[right_idxs,:],y[right_idxs],depth\u001b[38;5;241m+\u001b[39m\u001b[38;5;241m1\u001b[39m)\n\u001b[0;32m     32\u001b[0m \u001b[38;5;28;01mreturn\u001b[39;00m Node(feature\u001b[38;5;241m=\u001b[39mbest_feature,threshold\u001b[38;5;241m=\u001b[39mbest_threshold,left\u001b[38;5;241m=\u001b[39mleft_node,right\u001b[38;5;241m=\u001b[39mright_node)\n",
      "    \u001b[1;31m[... skipping similar frames: DecisionTree._grow_tree at line 29 (2 times)]\u001b[0m\n",
      "Input \u001b[1;32mIn [45]\u001b[0m, in \u001b[0;36mDecisionTree._grow_tree\u001b[1;34m(self, X, y, depth)\u001b[0m\n\u001b[0;32m     25\u001b[0m best_feature,best_threshold \u001b[38;5;241m=\u001b[39m \u001b[38;5;28mself\u001b[39m\u001b[38;5;241m.\u001b[39m_best_split(X,y,feature_idxs)\n\u001b[0;32m     27\u001b[0m left_idxs,right_idxs \u001b[38;5;241m=\u001b[39m \u001b[38;5;28mself\u001b[39m\u001b[38;5;241m.\u001b[39m_split(X[:,best_feature],best_threshold)\n\u001b[1;32m---> 29\u001b[0m left_node \u001b[38;5;241m=\u001b[39m \u001b[38;5;28;43mself\u001b[39;49m\u001b[38;5;241;43m.\u001b[39;49m\u001b[43m_grow_tree\u001b[49m\u001b[43m(\u001b[49m\u001b[43mX\u001b[49m\u001b[43m[\u001b[49m\u001b[43mleft_idxs\u001b[49m\u001b[43m,\u001b[49m\u001b[43m:\u001b[49m\u001b[43m]\u001b[49m\u001b[43m,\u001b[49m\u001b[43my\u001b[49m\u001b[43m[\u001b[49m\u001b[43mleft_idxs\u001b[49m\u001b[43m]\u001b[49m\u001b[43m,\u001b[49m\u001b[43mdepth\u001b[49m\u001b[38;5;241;43m+\u001b[39;49m\u001b[38;5;241;43m1\u001b[39;49m\u001b[43m)\u001b[49m\n\u001b[0;32m     30\u001b[0m right_node \u001b[38;5;241m=\u001b[39m \u001b[38;5;28mself\u001b[39m\u001b[38;5;241m.\u001b[39m_grow_tree(X[right_idxs,:],y[right_idxs],depth\u001b[38;5;241m+\u001b[39m\u001b[38;5;241m1\u001b[39m)\n\u001b[0;32m     32\u001b[0m \u001b[38;5;28;01mreturn\u001b[39;00m Node(feature\u001b[38;5;241m=\u001b[39mbest_feature,threshold\u001b[38;5;241m=\u001b[39mbest_threshold,left\u001b[38;5;241m=\u001b[39mleft_node,right\u001b[38;5;241m=\u001b[39mright_node)\n",
      "Input \u001b[1;32mIn [45]\u001b[0m, in \u001b[0;36mDecisionTree._grow_tree\u001b[1;34m(self, X, y, depth)\u001b[0m\n\u001b[0;32m     21\u001b[0m     \u001b[38;5;28;01mreturn\u001b[39;00m Node(value\u001b[38;5;241m=\u001b[39mvalue)\n\u001b[0;32m     23\u001b[0m feature_idxs \u001b[38;5;241m=\u001b[39m np\u001b[38;5;241m.\u001b[39mrandom\u001b[38;5;241m.\u001b[39mchoice(n_features,\u001b[38;5;28mself\u001b[39m\u001b[38;5;241m.\u001b[39mn_features,replace\u001b[38;5;241m=\u001b[39m\u001b[38;5;28;01mFalse\u001b[39;00m)\n\u001b[1;32m---> 25\u001b[0m best_feature,best_threshold \u001b[38;5;241m=\u001b[39m \u001b[38;5;28;43mself\u001b[39;49m\u001b[38;5;241;43m.\u001b[39;49m\u001b[43m_best_split\u001b[49m\u001b[43m(\u001b[49m\u001b[43mX\u001b[49m\u001b[43m,\u001b[49m\u001b[43my\u001b[49m\u001b[43m,\u001b[49m\u001b[43mfeature_idxs\u001b[49m\u001b[43m)\u001b[49m\n\u001b[0;32m     27\u001b[0m left_idxs,right_idxs \u001b[38;5;241m=\u001b[39m \u001b[38;5;28mself\u001b[39m\u001b[38;5;241m.\u001b[39m_split(X[:,best_feature],best_threshold)\n\u001b[0;32m     29\u001b[0m left_node \u001b[38;5;241m=\u001b[39m \u001b[38;5;28mself\u001b[39m\u001b[38;5;241m.\u001b[39m_grow_tree(X[left_idxs,:],y[left_idxs],depth\u001b[38;5;241m+\u001b[39m\u001b[38;5;241m1\u001b[39m)\n",
      "Input \u001b[1;32mIn [45]\u001b[0m, in \u001b[0;36mDecisionTree._best_split\u001b[1;34m(self, X, y, feat_idxs)\u001b[0m\n\u001b[0;32m     44\u001b[0m thresholds \u001b[38;5;241m=\u001b[39m np\u001b[38;5;241m.\u001b[39munique(X_c)\n\u001b[0;32m     46\u001b[0m \u001b[38;5;28;01mfor\u001b[39;00m thr \u001b[38;5;129;01min\u001b[39;00m thresholds:\n\u001b[1;32m---> 47\u001b[0m     info_gain \u001b[38;5;241m=\u001b[39m \u001b[38;5;28;43mself\u001b[39;49m\u001b[38;5;241;43m.\u001b[39;49m\u001b[43m_info_gain\u001b[49m\u001b[43m(\u001b[49m\u001b[43mX_c\u001b[49m\u001b[43m,\u001b[49m\u001b[43my\u001b[49m\u001b[43m,\u001b[49m\u001b[43mthr\u001b[49m\u001b[43m)\u001b[49m\n\u001b[0;32m     49\u001b[0m     \u001b[38;5;28;01mif\u001b[39;00m best_gain \u001b[38;5;241m<\u001b[39m info_gain:\n\u001b[0;32m     50\u001b[0m         best_gain \u001b[38;5;241m=\u001b[39m info_gain\n",
      "Input \u001b[1;32mIn [45]\u001b[0m, in \u001b[0;36mDecisionTree._info_gain\u001b[1;34m(self, X_c, y, thr)\u001b[0m\n\u001b[0;32m     56\u001b[0m \u001b[38;5;28;01mdef\u001b[39;00m \u001b[38;5;21m_info_gain\u001b[39m(\u001b[38;5;28mself\u001b[39m,X_c,y,thr):\n\u001b[0;32m     57\u001b[0m     parent_entropy \u001b[38;5;241m=\u001b[39m \u001b[38;5;28mself\u001b[39m\u001b[38;5;241m.\u001b[39m_entropy(y)\n\u001b[1;32m---> 59\u001b[0m     left_idxs, right_idxs \u001b[38;5;241m=\u001b[39m \u001b[38;5;28;43mself\u001b[39;49m\u001b[38;5;241;43m.\u001b[39;49m\u001b[43m_split\u001b[49m\u001b[43m(\u001b[49m\u001b[43mX_c\u001b[49m\u001b[43m,\u001b[49m\u001b[43mthr\u001b[49m\u001b[43m)\u001b[49m\n\u001b[0;32m     61\u001b[0m     \u001b[38;5;28;01mif\u001b[39;00m (\u001b[38;5;28mlen\u001b[39m(left_idxs) \u001b[38;5;241m==\u001b[39m \u001b[38;5;241m0\u001b[39m \u001b[38;5;129;01mor\u001b[39;00m \u001b[38;5;28mlen\u001b[39m(right_idxs) \u001b[38;5;241m==\u001b[39m \u001b[38;5;241m0\u001b[39m):\n\u001b[0;32m     62\u001b[0m         \u001b[38;5;28;01mreturn\u001b[39;00m \u001b[38;5;241m0\u001b[39m\n",
      "Input \u001b[1;32mIn [45]\u001b[0m, in \u001b[0;36mDecisionTree._split\u001b[1;34m(self, X_c, thr)\u001b[0m\n\u001b[0;32m     80\u001b[0m \u001b[38;5;28;01mdef\u001b[39;00m \u001b[38;5;21m_split\u001b[39m(\u001b[38;5;28mself\u001b[39m,X_c,thr):\n\u001b[1;32m---> 81\u001b[0m     left_idxs \u001b[38;5;241m=\u001b[39m \u001b[43mnp\u001b[49m\u001b[38;5;241;43m.\u001b[39;49m\u001b[43margwhere\u001b[49m\u001b[43m(\u001b[49m\u001b[43mX_c\u001b[49m\u001b[43m \u001b[49m\u001b[38;5;241;43m<\u001b[39;49m\u001b[38;5;241;43m=\u001b[39;49m\u001b[43m \u001b[49m\u001b[43mthr\u001b[49m\u001b[43m)\u001b[49m\u001b[38;5;241m.\u001b[39mflatten()\n\u001b[0;32m     82\u001b[0m     right_idxs \u001b[38;5;241m=\u001b[39m np\u001b[38;5;241m.\u001b[39margwhere(X_c \u001b[38;5;241m>\u001b[39m thr)\u001b[38;5;241m.\u001b[39mflatten()\n\u001b[0;32m     84\u001b[0m     \u001b[38;5;28;01mreturn\u001b[39;00m left_idxs,right_idxs\n",
      "File \u001b[1;32m<__array_function__ internals>:177\u001b[0m, in \u001b[0;36margwhere\u001b[1;34m(*args, **kwargs)\u001b[0m\n",
      "\u001b[1;31mKeyboardInterrupt\u001b[0m: "
     ]
    }
   ],
   "source": [
    "clf = DecisionTree()\n",
    "clf.fit(X_train,y_train)"
   ]
  },
  {
   "cell_type": "code",
   "execution_count": null,
   "id": "696b3959",
   "metadata": {},
   "outputs": [],
   "source": [
    "preds = clf.predict(X_test)"
   ]
  },
  {
   "cell_type": "code",
   "execution_count": null,
   "id": "d99852fd",
   "metadata": {},
   "outputs": [],
   "source": [
    "acc = np.sum(y_test == preds)/len(y_test)\n",
    "acc"
   ]
  },
  {
   "cell_type": "code",
   "execution_count": null,
   "id": "a73523cd",
   "metadata": {},
   "outputs": [],
   "source": []
  }
 ],
 "metadata": {
  "kernelspec": {
   "display_name": "Python 3 (ipykernel)",
   "language": "python",
   "name": "python3"
  },
  "language_info": {
   "codemirror_mode": {
    "name": "ipython",
    "version": 3
   },
   "file_extension": ".py",
   "mimetype": "text/x-python",
   "name": "python",
   "nbconvert_exporter": "python",
   "pygments_lexer": "ipython3",
   "version": "3.10.6"
  }
 },
 "nbformat": 4,
 "nbformat_minor": 5
}
